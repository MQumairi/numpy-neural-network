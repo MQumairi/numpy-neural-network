{
 "metadata": {
  "language_info": {
   "codemirror_mode": {
    "name": "ipython",
    "version": 3
   },
   "file_extension": ".py",
   "mimetype": "text/x-python",
   "name": "python",
   "nbconvert_exporter": "python",
   "pygments_lexer": "ipython3",
   "version": "3.8.3-final"
  },
  "orig_nbformat": 2,
  "kernelspec": {
   "name": "python3",
   "display_name": "Python 3"
  }
 },
 "nbformat": 4,
 "nbformat_minor": 2,
 "cells": [
  {
   "source": [
    "# Task 1\n",
    "\n",
    "The first task tests your Python skills. You need to develop a simple game consisting of a rectangular grid (of size height x width ) where each cell has a random integer value between 0 and 9. An agent starts at the upper-left corner of the grid and must reach the lower-right corner of the grid as fast as possible."
   ],
   "cell_type": "markdown",
   "metadata": {}
  },
  {
   "cell_type": "code",
   "execution_count": 11,
   "metadata": {},
   "outputs": [],
   "source": [
    "import numpy as np\n",
    "import random\n",
    "from abc import ABC, abstractmethod"
   ]
  },
  {
   "cell_type": "code",
   "execution_count": 12,
   "metadata": {},
   "outputs": [],
   "source": [
    "class Game():\n",
    "    def __init__(self, width, height):\n",
    "        self.width = width\n",
    "        self.height = height\n",
    "        self.maze = (np.random.rand(self.height, self.width) * 10).astype('int')\n",
    "        self.start = self.maze[0][0]\n",
    "        self.end = self.maze[self.height - 1][self.width - 1]\n",
    "        self.game_complete = False\n",
    "        # Pointer\n",
    "        self.pointer_x = 0\n",
    "        self.pointer_y = 0\n",
    "        self.pointer_val = self.maze[0][0]\n",
    "        self.pointer = f\"Currently at [{0}, {0}], of cost {self.start}\"\n",
    "        # Records\n",
    "        self.steps_taken = 0\n",
    "        self.time_spent = 0\n",
    "    \n",
    "\n",
    "    #Move the pointer from its current position, to the position passed in as parameters (x, y)\n",
    "    def move_pointer(self, x_pos, y_pos):\n",
    "        # Check if x_pos and y_pos are legal (step size of 1 unit, that does not exceed maze boundary)\n",
    "        if(abs(x_pos - self.pointer_x) > 1 or (x_pos >= self.width or x_pos < 0)):\n",
    "            print(\"X Step too large\")\n",
    "            return\n",
    "        if(abs(y_pos - self.pointer_y) > 1 or (y_pos >= self.height or y_pos < 0)):\n",
    "            print(\"Y Step too large\")\n",
    "            return\n",
    "        # Check that step is not diagonal (i.e. it is not the case that both x and y positions have changed)\n",
    "        if((x_pos != self.pointer_x) and (y_pos != self.pointer_y)):\n",
    "            print(\"Cannot move diagonally!\")\n",
    "            return\n",
    "        # If all is legal, make the step\n",
    "        # Update records\n",
    "        self.steps_taken += 1\n",
    "        self.time_spent += self.pointer_val\n",
    "        # Move pointer\n",
    "        self.pointer_x = x_pos\n",
    "        self.pointer_y = y_pos\n",
    "        self.pointer_val = self.maze[y_pos][x_pos]\n",
    "        self.pointer = f\"Currently at [{x_pos}, {y_pos}], of cost {self.pointer_val}\"\n",
    "        print(f\"{self.pointer}\")\n",
    "        # Check if after the move, the agent has won the game.\n",
    "        if(self.pointer_x == (self.width - 1) and self.pointer_y == (self.height - 1)):\n",
    "            self.game_complete = True\n",
    "            print(\"Won the game! 🥳\")\n",
    "    \n",
    "\n",
    "    #Reset the game\n",
    "    def reset(self):\n",
    "        print(\"Resetting game...\")\n",
    "        self.game_complete = False\n",
    "        self.pointer_x = 0\n",
    "        self.pointer_y = 0\n",
    "        self.steps_taken = 0\n",
    "        self.time_spent = 0\n",
    "        self.pointer = f\"Currently at [{0}, {0}], of cost {self.start}\"\n",
    "        print(self.pointer)\n",
    "    \n",
    "    def get_cost(self, x_pos, y_pos):\n",
    "        return self.maze[y_pos][x_pos]\n",
    "\n",
    "\n",
    "    #Given a point on the grid (x, y), return an array of neighboring coordinates [[x1, y1], [x2, y2], [x3, y3]...etc.]\n",
    "    def get_neighbors(self, x_pos, y_pos):\n",
    "        x_plus = x_pos + 1 if x_pos < (self.width - 1) else None\n",
    "        x_minus = x_pos - 1 if x_pos > 0 else None\n",
    "        y_plus = y_pos + 1 if y_pos < (self.height - 1) else None\n",
    "        y_minus = y_pos - 1 if y_pos > 0 else None\n",
    "        \n",
    "        above = [x_pos, y_minus]\n",
    "        below = [x_pos, y_plus]\n",
    "        left = [x_minus, y_pos]\n",
    "        right = [x_plus, y_pos]\n",
    "\n",
    "        neighbors = [above, below, left, right]\n",
    "\n",
    "        result = [ n for n in neighbors if (n[0] != None and n[1] != None)]\n",
    "\n",
    "        return result\n",
    "\n",
    "\n"
   ]
  },
  {
   "cell_type": "code",
   "execution_count": 13,
   "metadata": {},
   "outputs": [
    {
     "output_type": "stream",
     "name": "stdout",
     "text": [
      "[[7 0 1 6 9]\n [2 5 4 1 3]\n [6 4 8 4 2]\n [4 8 7 1 1]\n [8 6 5 8 2]]\n\nAfter a move to x=1, y=0\nCurrently at [1, 0], of cost 0\n"
     ]
    }
   ],
   "source": [
    "#Test game\n",
    "game = Game(width=5, height=5)\n",
    "print(f\"{game.maze}\\n\")\n",
    "\n",
    "print(\"After a move to x=1, y=0\")\n",
    "game.move_pointer(x_pos=1, y_pos=0)"
   ]
  },
  {
   "source": [
    "# Agents\n",
    "\n",
    "After implementing the game, we are tasked with developing agents to play it. All agents will conform to the Agent abstract base class. They must all take a game (type Game) into their constructor, and implement a method play_game() which plays the game that the agent was initialized with, as well as the score() method, which prints the agent's performance in completing the game."
   ],
   "cell_type": "markdown",
   "metadata": {}
  },
  {
   "cell_type": "code",
   "execution_count": 14,
   "metadata": {},
   "outputs": [],
   "source": [
    "class Agent(ABC):\n",
    "    @abstractmethod\n",
    "    def __init__(self, game: Game):\n",
    "        self.game = game\n",
    "        self.steps_taken = 0\n",
    "        self.time_spent = 0\n",
    "        \n",
    "    @abstractmethod\n",
    "    def play_game(self):\n",
    "        pass\n",
    "    \n",
    "    @abstractmethod\n",
    "    def score(self):\n",
    "        pass"
   ]
  },
  {
   "source": [
    "## Random Agent\n",
    "\n",
    "The first agent we need to develop is a \"basline agent\". The baseline agent needs to be superior to a random agent in reaching the end of the game. We implement a random agent to test their performance for comparison's sake."
   ],
   "cell_type": "markdown",
   "metadata": {}
  },
  {
   "cell_type": "code",
   "execution_count": 15,
   "metadata": {},
   "outputs": [],
   "source": [
    "class Random_Agent(Agent):\n",
    "    def __init__(self, game: Game):\n",
    "        self.game = game\n",
    "        self.steps_taken = 0\n",
    "        self.time_spent = 0\n",
    "    \n",
    "    def play_game(self):\n",
    "        self.game.reset()\n",
    "        # While the game is not complete...\n",
    "        while(not self.game.game_complete):\n",
    "            # Determine if we're moving along the y axis (if not, the step is along the x axis)\n",
    "            move_y = random.choice((0, 1))\n",
    "            # Determine if our direction is negative or positive (e.g. backwards along the y axis vs forwards along the y axis)\n",
    "            direction = random.choice((-1, 1))\n",
    "\n",
    "            # If the move is along the x axis, ensure the move does not exceed the boundaries of the maze (in that case, go back to start of loop)\n",
    "            # Then, move in the random direction alongside the x axis\n",
    "            if(move_y == 0):\n",
    "                new_x = self.game.pointer_x + direction\n",
    "                new_y = self.game.pointer_y\n",
    "                if(new_x >= self.game.width or new_x < 0):\n",
    "                    continue\n",
    "                # print(\"Moving x\")\n",
    "                self.game.move_pointer(x_pos=new_x, y_pos=new_y)\n",
    "            #Do the same if it were determined that the move should be along the y axis...\n",
    "            else:\n",
    "                new_x = self.game.pointer_x\n",
    "                new_y = self.game.pointer_y + direction\n",
    "                if(new_y >= self.game.height or new_y < 0):\n",
    "                    continue\n",
    "                # print(\"Moving y\")\n",
    "                self.game.move_pointer(x_pos=new_x, y_pos=new_y)\n",
    "        \n",
    "        self.steps_taken = self.game.steps_taken\n",
    "        self.time_spent = self.game.time_spent\n",
    "        return\n",
    "\n",
    "    def score(self):\n",
    "        print(f\"\\nTime spent: {self.time_spent}, Steps taken: {self.steps_taken}\")\n"
   ]
  },
  {
   "cell_type": "code",
   "execution_count": 16,
   "metadata": {
    "tags": []
   },
   "outputs": [
    {
     "output_type": "stream",
     "name": "stdout",
     "text": [
      "Resetting game...\nCurrently at [0, 0], of cost 7\nCurrently at [1, 0], of cost 0\nCurrently at [2, 0], of cost 1\nCurrently at [2, 1], of cost 4\nCurrently at [2, 2], of cost 8\nCurrently at [3, 2], of cost 4\nCurrently at [3, 3], of cost 1\nCurrently at [2, 3], of cost 7\nCurrently at [2, 2], of cost 8\nCurrently at [2, 1], of cost 4\nCurrently at [2, 0], of cost 1\nCurrently at [2, 1], of cost 4\nCurrently at [2, 2], of cost 8\nCurrently at [3, 2], of cost 4\nCurrently at [3, 1], of cost 1\nCurrently at [2, 1], of cost 4\nCurrently at [1, 1], of cost 5\nCurrently at [1, 0], of cost 0\nCurrently at [1, 1], of cost 5\nCurrently at [1, 2], of cost 4\nCurrently at [2, 2], of cost 8\nCurrently at [1, 2], of cost 4\nCurrently at [1, 3], of cost 8\nCurrently at [2, 3], of cost 7\nCurrently at [3, 3], of cost 1\nCurrently at [2, 3], of cost 7\nCurrently at [2, 4], of cost 5\nCurrently at [1, 4], of cost 6\nCurrently at [1, 3], of cost 8\nCurrently at [1, 2], of cost 4\nCurrently at [2, 2], of cost 8\nCurrently at [2, 1], of cost 4\nCurrently at [3, 1], of cost 1\nCurrently at [3, 0], of cost 6\nCurrently at [2, 0], of cost 1\nCurrently at [1, 0], of cost 0\nCurrently at [1, 1], of cost 5\nCurrently at [2, 1], of cost 4\nCurrently at [3, 1], of cost 1\nCurrently at [3, 0], of cost 6\nCurrently at [2, 0], of cost 1\nCurrently at [2, 1], of cost 4\nCurrently at [2, 2], of cost 8\nCurrently at [2, 1], of cost 4\nCurrently at [2, 0], of cost 1\nCurrently at [3, 0], of cost 6\nCurrently at [2, 0], of cost 1\nCurrently at [3, 0], of cost 6\nCurrently at [3, 1], of cost 1\nCurrently at [4, 1], of cost 3\nCurrently at [4, 0], of cost 9\nCurrently at [3, 0], of cost 6\nCurrently at [4, 0], of cost 9\nCurrently at [3, 0], of cost 6\nCurrently at [4, 0], of cost 9\nCurrently at [4, 1], of cost 3\nCurrently at [4, 2], of cost 2\nCurrently at [4, 3], of cost 1\nCurrently at [3, 3], of cost 1\nCurrently at [3, 2], of cost 4\nCurrently at [3, 3], of cost 1\nCurrently at [3, 2], of cost 4\nCurrently at [3, 3], of cost 1\nCurrently at [2, 3], of cost 7\nCurrently at [3, 3], of cost 1\nCurrently at [3, 2], of cost 4\nCurrently at [3, 1], of cost 1\nCurrently at [2, 1], of cost 4\nCurrently at [1, 1], of cost 5\nCurrently at [0, 1], of cost 2\nCurrently at [0, 2], of cost 6\nCurrently at [1, 2], of cost 4\nCurrently at [1, 1], of cost 5\nCurrently at [2, 1], of cost 4\nCurrently at [2, 2], of cost 8\nCurrently at [1, 2], of cost 4\nCurrently at [1, 1], of cost 5\nCurrently at [1, 0], of cost 0\nCurrently at [1, 1], of cost 5\nCurrently at [1, 0], of cost 0\nCurrently at [2, 0], of cost 1\nCurrently at [2, 1], of cost 4\nCurrently at [2, 2], of cost 8\nCurrently at [2, 1], of cost 4\nCurrently at [2, 0], of cost 1\nCurrently at [3, 0], of cost 6\nCurrently at [4, 0], of cost 9\nCurrently at [3, 0], of cost 6\nCurrently at [3, 1], of cost 1\nCurrently at [3, 0], of cost 6\nCurrently at [2, 0], of cost 1\nCurrently at [1, 0], of cost 0\nCurrently at [1, 1], of cost 5\nCurrently at [2, 1], of cost 4\nCurrently at [2, 2], of cost 8\nCurrently at [3, 2], of cost 4\nCurrently at [3, 3], of cost 1\nCurrently at [3, 4], of cost 8\nCurrently at [2, 4], of cost 5\nCurrently at [1, 4], of cost 6\nCurrently at [1, 3], of cost 8\nCurrently at [1, 4], of cost 6\nCurrently at [0, 4], of cost 8\nCurrently at [1, 4], of cost 6\nCurrently at [2, 4], of cost 5\nCurrently at [1, 4], of cost 6\nCurrently at [0, 4], of cost 8\nCurrently at [0, 3], of cost 4\nCurrently at [0, 4], of cost 8\nCurrently at [1, 4], of cost 6\nCurrently at [0, 4], of cost 8\nCurrently at [0, 3], of cost 4\nCurrently at [1, 3], of cost 8\nCurrently at [1, 2], of cost 4\nCurrently at [2, 2], of cost 8\nCurrently at [1, 2], of cost 4\nCurrently at [0, 2], of cost 6\nCurrently at [1, 2], of cost 4\nCurrently at [0, 2], of cost 6\nCurrently at [0, 3], of cost 4\nCurrently at [0, 2], of cost 6\nCurrently at [0, 3], of cost 4\nCurrently at [0, 2], of cost 6\nCurrently at [0, 3], of cost 4\nCurrently at [1, 3], of cost 8\nCurrently at [2, 3], of cost 7\nCurrently at [2, 4], of cost 5\nCurrently at [1, 4], of cost 6\nCurrently at [1, 3], of cost 8\nCurrently at [0, 3], of cost 4\nCurrently at [1, 3], of cost 8\nCurrently at [0, 3], of cost 4\nCurrently at [0, 4], of cost 8\nCurrently at [0, 3], of cost 4\nCurrently at [0, 4], of cost 8\nCurrently at [1, 4], of cost 6\nCurrently at [0, 4], of cost 8\nCurrently at [1, 4], of cost 6\nCurrently at [2, 4], of cost 5\nCurrently at [2, 3], of cost 7\nCurrently at [1, 3], of cost 8\nCurrently at [1, 4], of cost 6\nCurrently at [2, 4], of cost 5\nCurrently at [2, 3], of cost 7\nCurrently at [2, 2], of cost 8\nCurrently at [2, 3], of cost 7\nCurrently at [2, 4], of cost 5\nCurrently at [2, 3], of cost 7\nCurrently at [3, 3], of cost 1\nCurrently at [4, 3], of cost 1\nCurrently at [4, 4], of cost 2\nWon the game! 🥳\n\nTime spent: 709, Steps taken: 150\n"
     ]
    }
   ],
   "source": [
    "# game2 = Game(width=6, height=4)\n",
    "# print(f\"{game2.maze}\\n\")\n",
    "random_agent = Random_Agent(game)\n",
    "random_agent.play_game()\n",
    "random_agent.score()"
   ]
  },
  {
   "source": [
    "# Baseline Agent\n",
    "\n",
    "Our baseline agent will move diagonally towards the bottom right. Once it reaches an edge, it then moves (either downwards or across to the left, depending on maze dimensions), until it reaches the end point"
   ],
   "cell_type": "markdown",
   "metadata": {}
  },
  {
   "cell_type": "code",
   "execution_count": 17,
   "metadata": {},
   "outputs": [],
   "source": [
    "class Baseline_Agent(Agent):\n",
    "    def __init__(self, game: Game):\n",
    "        self.game = game\n",
    "        self.steps_taken = 0\n",
    "        self.time_spent = 0\n",
    "    \n",
    "\n",
    "    def play_game(self):\n",
    "        self.game.reset()\n",
    "        while(not self.game.game_complete):\n",
    "            # If we reached the bottom edge, move across to the right\n",
    "            if (self.game.pointer_y == self.game.height - 1):\n",
    "                new_x = self.game.pointer_x + 1\n",
    "                new_y = self.game.pointer_y\n",
    "                self.game.move_pointer(x_pos=(new_x), y_pos=(new_y))\n",
    "\n",
    "            # Else if we reached the right edge, move downwards\n",
    "            elif (self.game.pointer_x == self.game.width - 1):\n",
    "                new_x = self.game.pointer_x\n",
    "                new_y = self.game.pointer_y + 1\n",
    "                self.game.move_pointer(x_pos=(new_x), y_pos=(new_y))\n",
    "\n",
    "            # Else, move diagonally, by going through two steps\n",
    "            else:\n",
    "                new_x_1 = self.game.pointer_x + 1\n",
    "                new_y_1 = self.game.pointer_y\n",
    "                self.game.move_pointer(x_pos=(new_x_1), y_pos=(new_y_1))\n",
    "                new_x_2 = self.game.pointer_x\n",
    "                new_y_2 = self.game.pointer_y + 1\n",
    "                self.game.move_pointer(x_pos=(new_x_2), y_pos=(new_y_2))\n",
    "\n",
    "        self.steps_taken = self.game.steps_taken\n",
    "        self.time_spent = self.game.time_spent\n",
    "        return\n",
    "    \n",
    "    def score(self):\n",
    "        print(f\"\\nTime spent: {self.time_spent}, Steps taken: {self.steps_taken}\")\n",
    "            "
   ]
  },
  {
   "cell_type": "code",
   "execution_count": 18,
   "metadata": {},
   "outputs": [
    {
     "output_type": "stream",
     "name": "stdout",
     "text": [
      "Resetting game...\nCurrently at [0, 0], of cost 7\nCurrently at [1, 0], of cost 0\nCurrently at [1, 1], of cost 5\nCurrently at [2, 1], of cost 4\nCurrently at [2, 2], of cost 8\nCurrently at [3, 2], of cost 4\nCurrently at [3, 3], of cost 1\nCurrently at [4, 3], of cost 1\nCurrently at [4, 4], of cost 2\nWon the game! 🥳\n\nTime spent: 25, Steps taken: 8\n"
     ]
    }
   ],
   "source": [
    "# game3 = Game(width=20, height=4)\n",
    "# print(f\"{game3.maze}\\n\")\n",
    "baseline_agent = Baseline_Agent(game)\n",
    "baseline_agent.play_game()\n",
    "baseline_agent.score()"
   ]
  },
  {
   "source": [
    "# Dijkstra's Algorithm\n",
    "\n",
    "We build an agent that plays the game using Dijkstra's algorithm.\n",
    "\n",
    "WHILE verticies remain unvisted\n",
    "    "
   ],
   "cell_type": "markdown",
   "metadata": {}
  },
  {
   "cell_type": "code",
   "execution_count": 19,
   "metadata": {},
   "outputs": [],
   "source": [
    "class Dijkstra_Agent(Agent):\n",
    "    def __init__(self, game: Game):\n",
    "        self.game = game\n",
    "        self.steps_taken = 0\n",
    "        self.time_spent = 0\n",
    "\n",
    "        self.number_of_nodes = self.game.width * self.game.height\n",
    "        self.current_node = f\"{0},{0}\"\n",
    "        self.visted_nodes = []\n",
    "        self.path = []\n",
    "\n",
    "        #Initialize dictionary info, whose schema looks like:\n",
    "        #      {“node”: {previous: “node”, cost: 0}...}\n",
    "        # Where \"node\" is a string representation of the coordinates of a cell on the grid... e.g. \"0,0\" for [0, 0]\n",
    "        self.info = {}\n",
    "        # Fill info with values given the game's dimensions\n",
    "        for w in range(self.game.width):\n",
    "            for h in range(self.game.height):\n",
    "                if(w == 0 and h == 0 ):\n",
    "                    self.info[f\"{w},{h}\"] = {\"prev\": None, \"cost\": 0}\n",
    "                else:\n",
    "                    self.info[f\"{w},{h}\"] = {\"prev\": None, \"cost\": float(\"inf\")}\n",
    "    \n",
    "\n",
    "    def play_game(self):\n",
    "        self.game.reset()\n",
    "        # Fills in self.info \"cost\" and \"prev\" values for each node\n",
    "        self.explore()\n",
    "        # Uses self.info to build up the quickest path to endpoint\n",
    "        self.build_path()\n",
    "        # Play the game by following the path\n",
    "        for n in self.path:\n",
    "            move_cor = self.string_to_coor(n)\n",
    "            self.game.move_pointer(x_pos=move_cor[0], y_pos=move_cor[1])\n",
    "        \n",
    "        self.steps_taken = self.game.steps_taken\n",
    "        self.time_spent = self.game.time_spent\n",
    "        \n",
    "\n",
    "    def build_path(self):\n",
    "        # Initialize \"node\" to equal the end point\n",
    "        node = f\"{self.game.width - 1},{self.game.height - 1}\"\n",
    "        # Working backwards, check the value for \"prev\" in self.info, corresponding to the node defined above\n",
    "        # This will give us the quickest path going backwards, starting from the end, and reaching the start\n",
    "        # Insert every encountered node on this path going backwards, to the front of self.path. \n",
    "        # The end result is a list of corrodinates for the quickest path, from start to end\n",
    "        while not node == f\"{0},{0}\":\n",
    "            self.path.insert(0, node)\n",
    "            node = self.info[node][\"prev\"]\n",
    "\n",
    "\n",
    "    def explore(self):\n",
    "        #Base case - if we've visted all nodes, we're done\n",
    "        if len(self.visted_nodes) >= self.number_of_nodes:\n",
    "            return\n",
    "\n",
    "        #Convert self.current_node into numerical format using self.string_to_coor.. e.g. \"0,0\" -> [0, 0]\n",
    "        current_node_numb = self.string_to_coor(self.current_node)\n",
    "        #Get all the neighbors of self.current_node (helper function that outputs all neighbors is in Game class)\n",
    "        current_neighbors = self.game.get_neighbors(current_node_numb[0], current_node_numb[1])\n",
    "\n",
    "        #For each neighbor that has not been previously visited (i.e. is not in self.visited_nodes) do the following:\n",
    "        # - Initialize a variable called \"current_cost\". \n",
    "        #   Its value is the current_node's cost as specified in self.info (total cost from start to current_node), plus the cost of traveling to this neighbor from current_node\n",
    "        # - If value for the variable \"current_cost\" is less than the neighbor's cost as specified in self.info (total cost from start to that neighbor), \n",
    "        #   set info[\"neighbor\"][\"cost\"] to current_cost, and info[\"neighbor\"][\"prev\"] to current_node\n",
    "        for n in current_neighbors:\n",
    "            if not n in self.visted_nodes:\n",
    "                current_cost = self.info[self.current_node][\"cost\"] + self.game.get_cost(x_pos=n[0], y_pos=n[1])\n",
    "                if current_cost <  self.info[f\"{n[0]},{n[1]}\"][\"cost\"]:\n",
    "                    self.info[f\"{n[0]},{n[1]}\"][\"cost\"] = current_cost\n",
    "                    self.info[f\"{n[0]},{n[1]}\"][\"prev\"] = self.current_node\n",
    "        \n",
    "        # Tick current_node off by adding it to self.visited_nodes\n",
    "        self.visted_nodes.append(self.current_node)\n",
    "\n",
    "        # Set current_node to equal to the non visited node with the lowest cost as specified in info (total cost from start to that node)\n",
    "        self.update_current_node()\n",
    "\n",
    "        #Recursivley call explore again\n",
    "        self.explore()\n",
    "\n",
    "\n",
    "    def update_current_node(self):\n",
    "        if len(self.visted_nodes) >= self.number_of_nodes:\n",
    "            return\n",
    "\n",
    "        least_cost = float(\"inf\")\n",
    "        least_cost_node = \"\"\n",
    "\n",
    "        for n in self.info:\n",
    "            if (not n in self.visted_nodes and self.info[n][\"cost\"] < least_cost):\n",
    "                least_cost = self.info[n][\"cost\"]\n",
    "                least_cost_node = n\n",
    "        \n",
    "        self.current_node = least_cost_node\n",
    "\n",
    "\n",
    "    #Takes a string s, and returns an array of the corrdinates... e.g. \"0,0\" -> [0, 0]\n",
    "    def string_to_coor(self, input):\n",
    "        split_string = input.split(\",\")\n",
    "        for i in range(len(split_string)):\n",
    "            split_string[i] = int(split_string[i])\n",
    "        return split_string\n",
    "\n",
    "    \n",
    "    def score(self):\n",
    "        print(f\"\\nTime spent: {self.time_spent}, Steps taken: {self.steps_taken}\")\n",
    "\n",
    "            \n",
    "\n"
   ]
  },
  {
   "cell_type": "code",
   "execution_count": 20,
   "metadata": {
    "tags": []
   },
   "outputs": [
    {
     "output_type": "stream",
     "name": "stdout",
     "text": [
      "Resetting game...\nCurrently at [0, 0], of cost 7\nCurrently at [1, 0], of cost 0\nCurrently at [2, 0], of cost 1\nCurrently at [2, 1], of cost 4\nCurrently at [3, 1], of cost 1\nCurrently at [3, 2], of cost 4\nCurrently at [3, 3], of cost 1\nCurrently at [4, 3], of cost 1\nCurrently at [4, 4], of cost 2\nWon the game! 🥳\n\nTime spent: 14, Steps taken: 8\n"
     ]
    }
   ],
   "source": [
    "# game4 = Game(width=6, height=4)\n",
    "# print(f\"{game4.maze}\\n\")\n",
    "d_agent = Dijkstra_Agent(game)\n",
    "d_agent.play_game()\n",
    "d_agent.score()"
   ]
  },
  {
   "cell_type": "code",
   "execution_count": null,
   "metadata": {},
   "outputs": [],
   "source": []
  }
 ]
}