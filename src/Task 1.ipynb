{
 "metadata": {
  "language_info": {
   "codemirror_mode": {
    "name": "ipython",
    "version": 3
   },
   "file_extension": ".py",
   "mimetype": "text/x-python",
   "name": "python",
   "nbconvert_exporter": "python",
   "pygments_lexer": "ipython3",
   "version": "3.8.3-final"
  },
  "orig_nbformat": 2,
  "kernelspec": {
   "name": "python3",
   "display_name": "Python 3"
  }
 },
 "nbformat": 4,
 "nbformat_minor": 2,
 "cells": [
  {
   "source": [
    "# Task 1\n",
    "\n",
    "The first task tests your Python skills. You need to develop a simple game consisting of a rectangular grid (of size height x width ) where each cell has a random integer value between 0 and 9. An agent starts at the upper-left corner of the grid and must reach the lower-right corner of the grid as fast as possible."
   ],
   "cell_type": "markdown",
   "metadata": {}
  },
  {
   "cell_type": "code",
   "execution_count": null,
   "metadata": {},
   "outputs": [],
   "source": [
    "import numpy as np"
   ]
  },
  {
   "cell_type": "code",
   "execution_count": null,
   "metadata": {},
   "outputs": [],
   "source": [
    "class Game():\n",
    "    def __init__(self, width, height):\n",
    "        self.width = width\n",
    "        self.height = height\n",
    "        self.maze = (np.random.rand(self.height, self.width) * 10).astype('int')\n",
    "        self.start = self.maze[0][0]\n",
    "        self.end = self.maze[self.height - 1][self.width - 1]\n",
    "        # Pointer\n",
    "        self.pointer_x = 0\n",
    "        self.pointer_y = 0\n",
    "        self.pointer_val = self.maze[0][0]\n",
    "        self.pointer = f\"Currently at {self.start}, located on x={0}, y={0}\"\n",
    "        # Records\n",
    "        self.steps_taken = 0\n",
    "        self.time_spent = 0\n",
    "    \n",
    "    def move_pointer(self, x_pos, y_pos):\n",
    "        # Check if x_pos and y_pos are legal (step size of 1 unit, that does not exceed maze boundary)\n",
    "        if(abs(x_pos - self.pointer_x) > 1 or x_pos >= self.width):\n",
    "            print(\"X Step too large\")\n",
    "            return\n",
    "        if(abs(y_pos - self.pointer_y) > 1 or y_pos >= self.height):\n",
    "            print(\"Y Step too large\")\n",
    "            return\n",
    "        # Check that step is not diagonal (i.e. it is not the case that both x and y positions have changed)\n",
    "        if((x_pos != self.pointer_x) and (y_pos != self.pointer_y)):\n",
    "            print(\"Cannot move diagonally!\")\n",
    "            return\n",
    "        # If all is legal, make the step\n",
    "        # Update records\n",
    "        self.steps_taken += 1\n",
    "        self.time_spent += self.pointer_val\n",
    "        # Move pointer\n",
    "        self.pointer_x = x_pos\n",
    "        self.pointer_y = y_pos\n",
    "        self.pointer_val = self.maze[y_pos][x_pos]\n",
    "        self.pointer = f\"Currently at {self.pointer_val}, located on x={x_pos}, y={y_pos}\"\n",
    "        print(f\"{self.pointer}\")\n",
    "        \n",
    "    \n",
    "    def reset(self):\n",
    "        print(\"Reseting game\")\n",
    "        self.pointer_x = 0\n",
    "        self.pointer_y = 0\n",
    "        self.pointer = f\"Currently at {self.start}, located on x={0}, y={0}\""
   ]
  },
  {
   "cell_type": "code",
   "execution_count": null,
   "metadata": {},
   "outputs": [],
   "source": [
    "game = Game(width=4, height=8)\n",
    "print(game.maze)"
   ]
  },
  {
   "cell_type": "code",
   "execution_count": null,
   "metadata": {},
   "outputs": [],
   "source": [
    "print(f\"Start at {game.start}... going to {game.end}\")\n",
    "print(game.pointer)\n",
    "game.move_pointer(x_pos=1, y_pos=0)\n",
    "game.move_pointer(x_pos=2, y_pos=0)\n",
    "game.move_pointer(x_pos=1, y_pos=0)"
   ]
  },
  {
   "cell_type": "code",
   "execution_count": null,
   "metadata": {},
   "outputs": [],
   "source": [
    "print(game.pointer_val)\n",
    "print(game.steps_taken)\n",
    "print(game.time_spent)"
   ]
  },
  {
   "cell_type": "code",
   "execution_count": null,
   "metadata": {},
   "outputs": [],
   "source": []
  }
 ]
}