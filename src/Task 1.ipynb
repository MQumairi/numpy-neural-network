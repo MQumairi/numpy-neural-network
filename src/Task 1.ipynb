{
 "metadata": {
  "language_info": {
   "codemirror_mode": {
    "name": "ipython",
    "version": 3
   },
   "file_extension": ".py",
   "mimetype": "text/x-python",
   "name": "python",
   "nbconvert_exporter": "python",
   "pygments_lexer": "ipython3",
   "version": "3.8.3-final"
  },
  "orig_nbformat": 2,
  "kernelspec": {
   "name": "python3",
   "display_name": "Python 3"
  }
 },
 "nbformat": 4,
 "nbformat_minor": 2,
 "cells": [
  {
   "source": [
    "# Task 1\n",
    "\n",
    "The first task tests your Python skills. You need to develop a simple game consisting of a rectangular grid (of size height x width ) where each cell has a random integer value between 0 and 9. An agent starts at the upper-left corner of the grid and must reach the lower-right corner of the grid as fast as possible."
   ],
   "cell_type": "markdown",
   "metadata": {}
  },
  {
   "cell_type": "code",
   "execution_count": 11,
   "metadata": {},
   "outputs": [],
   "source": [
    "import numpy as np"
   ]
  },
  {
   "cell_type": "code",
   "execution_count": 12,
   "metadata": {},
   "outputs": [],
   "source": [
    "class Maze():\n",
    "    def __init__(self, width, height):\n",
    "        self.width = width\n",
    "        self.height = height\n",
    "        self.maze = (np.random.rand(self.height, self.width) * 10).astype('int')\n",
    "        self.start = self.maze[0][0]\n",
    "        self.end = self.maze[self.height - 1][self.width - 1]\n",
    "        # Pointer\n",
    "        self.pointer_x = 0\n",
    "        self.pointer_y = 0\n",
    "        self.pointer_val = self.maze[0][0]\n",
    "        self.pointer = f\"Currently at {self.start}, located on x={0}, y={0}\"\n",
    "    \n",
    "    def move_pointer(self, x_pos, y_pos):\n",
    "        #Check if x_pos and y_pos are legal (step size of 1 unit, that does not exceed maze boundary)\n",
    "        if(abs(x_pos - self.pointer_x) > 1 or x_pos >= self.width):\n",
    "            print(\"X Step too large\")\n",
    "            return\n",
    "        if(abs(y_pos - self.pointer_y) > 1 or y_pos >= self.height):\n",
    "            print(\"Y Step too large\")\n",
    "            return\n",
    "        #Check that step is not diagonal (i.e. it is not the case that both x and y positions have changed)\n",
    "        if((x_pos != self.pointer_x) and (y_pos != self.pointer_y)):\n",
    "            print(\"Cannot move diagonally!\")\n",
    "            return\n",
    "        #If all is legal, make the step\n",
    "        self.pointer_x = x_pos\n",
    "        self.pointer_y = y_pos\n",
    "        self.pointer_val = self.maze[y_pos][x_pos]\n",
    "        self.pointer = f\"Currently at {self.pointer_val}, located on x={x_pos}, y={y_pos}\"\n",
    "        print(f\"{self.pointer}\")\n",
    "    \n",
    "    def reset(self):\n",
    "        print(\"Reseting game\")\n",
    "        self.pointer_x = 0\n",
    "        self.pointer_y = 0\n",
    "        self.pointer = f\"Currently at {self.start}, located on x={0}, y={0}\""
   ]
  },
  {
   "cell_type": "code",
   "execution_count": 13,
   "metadata": {},
   "outputs": [
    {
     "output_type": "stream",
     "name": "stdout",
     "text": [
      "[[7 2 9 1]\n [5 8 0 3]\n [0 7 6 7]\n [9 2 1 8]\n [4 9 9 1]\n [1 4 1 3]\n [9 3 6 8]\n [4 5 2 0]]\n"
     ]
    }
   ],
   "source": [
    "maze = Maze(width=4, height=8)\n",
    "print(maze.maze)"
   ]
  },
  {
   "cell_type": "code",
   "execution_count": 16,
   "metadata": {},
   "outputs": [
    {
     "output_type": "stream",
     "name": "stdout",
     "text": [
      "Start at 7... going to 0\nCurrently at 2, located on x=1, y=0\nCurrently at 9, located on x=2, y=0\n"
     ]
    }
   ],
   "source": [
    "print(f\"Start at {maze.start}... going to {maze.end}\")\n",
    "print(maze.pointer)\n",
    "maze.move_pointer(x_pos=2, y_pos=0)"
   ]
  },
  {
   "cell_type": "code",
   "execution_count": 17,
   "metadata": {},
   "outputs": [
    {
     "output_type": "stream",
     "name": "stdout",
     "text": [
      "9\n"
     ]
    }
   ],
   "source": [
    "print(maze.pointer_val)"
   ]
  },
  {
   "cell_type": "code",
   "execution_count": null,
   "metadata": {},
   "outputs": [],
   "source": []
  }
 ]
}