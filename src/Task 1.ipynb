{
 "metadata": {
  "language_info": {
   "codemirror_mode": {
    "name": "ipython",
    "version": 3
   },
   "file_extension": ".py",
   "mimetype": "text/x-python",
   "name": "python",
   "nbconvert_exporter": "python",
   "pygments_lexer": "ipython3",
   "version": "3.8.3-final"
  },
  "orig_nbformat": 2,
  "kernelspec": {
   "name": "python3",
   "display_name": "Python 3"
  }
 },
 "nbformat": 4,
 "nbformat_minor": 2,
 "cells": [
  {
   "source": [
    "# Task 1\n",
    "\n",
    "The first task tests your Python skills. You need to develop a simple game consisting of a rectangular grid (of size height x width ) where each cell has a random integer value between 0 and 9. An agent starts at the upper-left corner of the grid and must reach the lower-right corner of the grid as fast as possible."
   ],
   "cell_type": "markdown",
   "metadata": {}
  },
  {
   "cell_type": "code",
   "execution_count": null,
   "metadata": {},
   "outputs": [],
   "source": [
    "import numpy as np\n",
    "import random"
   ]
  },
  {
   "cell_type": "code",
   "execution_count": null,
   "metadata": {},
   "outputs": [],
   "source": [
    "class Game():\n",
    "    def __init__(self, width, height):\n",
    "        self.width = width\n",
    "        self.height = height\n",
    "        self.maze = (np.random.rand(self.height, self.width) * 10).astype('int')\n",
    "        self.start = self.maze[0][0]\n",
    "        self.end = self.maze[self.height - 1][self.width - 1]\n",
    "        self.game_complete = False\n",
    "        # Pointer\n",
    "        self.pointer_x = 0\n",
    "        self.pointer_y = 0\n",
    "        self.pointer_val = self.maze[0][0]\n",
    "        self.pointer = f\"Currently at {self.start}, located on x={0}, y={0}\"\n",
    "        # Records\n",
    "        self.steps_taken = 0\n",
    "        self.time_spent = 0\n",
    "    \n",
    "    def move_pointer(self, x_pos, y_pos):\n",
    "        # Check if x_pos and y_pos are legal (step size of 1 unit, that does not exceed maze boundary)\n",
    "        if(abs(x_pos - self.pointer_x) > 1 or (x_pos >= self.width or x_pos < 0)):\n",
    "            print(\"X Step too large\")\n",
    "            return\n",
    "        if(abs(y_pos - self.pointer_y) > 1 or (y_pos >= self.height or y_pos < 0)):\n",
    "            print(\"Y Step too large\")\n",
    "            return\n",
    "        # Check that step is not diagonal (i.e. it is not the case that both x and y positions have changed)\n",
    "        if((x_pos != self.pointer_x) and (y_pos != self.pointer_y)):\n",
    "            print(\"Cannot move diagonally!\")\n",
    "            return\n",
    "        # If all is legal, make the step\n",
    "        # Update records\n",
    "        self.steps_taken += 1\n",
    "        self.time_spent += self.pointer_val\n",
    "        # Move pointer\n",
    "        self.pointer_x = x_pos\n",
    "        self.pointer_y = y_pos\n",
    "        self.pointer_val = self.maze[y_pos][x_pos]\n",
    "        self.pointer = f\"Currently at {self.pointer_val}, located on x={x_pos}, y={y_pos}\"\n",
    "        print(f\"{self.pointer}\")\n",
    "        # Check if after the move, the agent has won the game.\n",
    "        if(self.pointer_x == (self.width - 1) and self.pointer_y == (self.height - 1)):\n",
    "            self.game_complete = True\n",
    "            print(\"Won the game! 🥳\")\n",
    "    \n",
    "    def reset(self):\n",
    "        print(\"Reseting game\")\n",
    "        self.pointer_x = 0\n",
    "        self.pointer_y = 0\n",
    "        self.steps_taken = 0\n",
    "        self.time_spent = 0\n",
    "        self.pointer = f\"Currently at {self.start}, located on x={0}, y={0}\""
   ]
  },
  {
   "cell_type": "code",
   "execution_count": null,
   "metadata": {},
   "outputs": [],
   "source": [
    "#Test game\n",
    "game1 = Game(width=5, height=5)\n",
    "print(game1.maze)\n",
    "game1.move_pointer(x_pos=1, y_pos=0)"
   ]
  },
  {
   "source": [
    "## Random Agent\n",
    "\n",
    "Our baseline agent needs to be superior to a random agent in reaching the end of the game. We implement a random agent to test their performance for comparison's sake."
   ],
   "cell_type": "markdown",
   "metadata": {}
  },
  {
   "cell_type": "code",
   "execution_count": null,
   "metadata": {},
   "outputs": [],
   "source": [
    "class Random_Agent():\n",
    "    def __init__(self, game: Game):\n",
    "        self.game = game\n",
    "    \n",
    "    def random_game(self):\n",
    "        # While the game is not complete...\n",
    "        while(not self.game.game_complete):\n",
    "            # Determine if we're moving along the y axis (if not, the step is along the x axis)\n",
    "            move_y = random.choice((0, 1))\n",
    "            # Determine if our direction is negative or positive (e.g. backwards along the y axis vs forwards along the y axis)\n",
    "            direction = random.choice((-1, 1))\n",
    "\n",
    "            # If the move is along the x axis, ensure the move does not exceed the boundaries of the maze (in that case, go back to start of loop)\n",
    "            # Then, move in the random direction alongside the x axis\n",
    "            if(move_y == 0):\n",
    "                new_x = self.game.pointer_x + direction\n",
    "                new_y = self.game.pointer_y\n",
    "                if(new_x >= self.game.width or new_x < 0):\n",
    "                    continue\n",
    "                print(\"Moving x\")\n",
    "                self.game.move_pointer(x_pos=new_x, y_pos=new_y)\n",
    "            #Do the same if it were determined that the move shoudl be along the y axis...\n",
    "            else:\n",
    "                new_x = self.game.pointer_x\n",
    "                new_y = self.game.pointer_y + direction\n",
    "                if(new_y >= self.game.height or new_y < 0):\n",
    "                    continue\n",
    "                print(\"Moving y\")\n",
    "                self.game.move_pointer(x_pos=new_x, y_pos=new_y)\n",
    "        return\n"
   ]
  },
  {
   "cell_type": "code",
   "execution_count": null,
   "metadata": {
    "tags": [
     "outputPrepend"
    ]
   },
   "outputs": [],
   "source": [
    "game2 = Game(width=40, height=20)\n",
    "random_agent = Random_Agent(game2)\n",
    "random_agent.random_game()\n",
    "print(f\"\\nTime spent: {game2.time_spent}, Steps taken: {game2.steps_taken}\")"
   ]
  },
  {
   "source": [
    "# Baseline Agent\n",
    "\n",
    "Our baseline agent will move diagonally towards the bottom right. Once it reaches an edge, it then moves (either downwards or across to the left, depending on maze dimensions), until it reaches the end point"
   ],
   "cell_type": "markdown",
   "metadata": {}
  }
 ]
}