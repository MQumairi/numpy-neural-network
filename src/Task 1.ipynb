{
 "metadata": {
  "language_info": {
   "codemirror_mode": {
    "name": "ipython",
    "version": 3
   },
   "file_extension": ".py",
   "mimetype": "text/x-python",
   "name": "python",
   "nbconvert_exporter": "python",
   "pygments_lexer": "ipython3",
   "version": "3.8.3-final"
  },
  "orig_nbformat": 2,
  "kernelspec": {
   "name": "python3",
   "display_name": "Python 3"
  }
 },
 "nbformat": 4,
 "nbformat_minor": 2,
 "cells": [
  {
   "source": [
    "# Task 1\n",
    "\n",
    "The first task tests your Python skills. You need to develop a simple game consisting of a rectangular grid (of size height x width ) where each cell has a random integer value between 0 and 9. An agent starts at the upper-left corner of the grid and must reach the lower-right corner of the grid as fast as possible."
   ],
   "cell_type": "markdown",
   "metadata": {}
  },
  {
   "cell_type": "code",
   "execution_count": 96,
   "metadata": {},
   "outputs": [],
   "source": [
    "import numpy as np"
   ]
  },
  {
   "cell_type": "code",
   "execution_count": 97,
   "metadata": {},
   "outputs": [],
   "source": [
    "class Maze():\n",
    "    def __init__(self, width, height):\n",
    "        self.width = width\n",
    "        self.height = height\n",
    "        self.maze = (np.random.rand(self.height, self.width) * 10).astype('int')\n",
    "        self.start = self.maze[0][0]\n",
    "        self.end = self.maze[self.height - 1][self.width - 1]\n",
    "        # Pointer\n",
    "        self.pointer_x = 0\n",
    "        self.pointer_y = 0\n",
    "        self.pointer = f\"Currently at {self.start}, located on x={0}, y={0}\"\n",
    "    \n",
    "    def move_pointer(self, x_pos, y_pos):\n",
    "        #Check if x_pos and y_pos are legal (step size of 1 unit, that does not exceed maze boundary)\n",
    "        if(abs(x_pos - self.pointer_x) > 1 or x_pos >= self.width):\n",
    "            print(\"X Step too large\")\n",
    "            return\n",
    "        if(abs(y_pos - self.pointer_y) > 1 or y_pos >= self.height):\n",
    "            print(\"Y Step too large\")\n",
    "            return\n",
    "        #Check that step is not diagonal (i.e. it is not the case that both x and y positions have changed)\n",
    "        if((x_pos != self.pointer_x) and (y_pos != self.pointer_y)):\n",
    "            print(\"Cannot move diagonally!\")\n",
    "            return\n",
    "        #If all is legal, make the step\n",
    "        self.pointer_x = x_pos\n",
    "        self.pointer_y = y_pos\n",
    "        self.pointer = f\"Currently at {self.maze[y_pos][x_pos]}, located on x={x_pos}, y={y_pos}\"\n",
    "        print(f\"{self.pointer}\")\n",
    "    \n",
    "    def reset(self):\n",
    "        print(\"Reseting game\")\n",
    "        self.pointer_x = 0\n",
    "        self.pointer_y = 0\n",
    "        self.pointer = f\"Currently at {self.start}, located on x={0}, y={0}\""
   ]
  },
  {
   "cell_type": "code",
   "execution_count": 98,
   "metadata": {},
   "outputs": [
    {
     "output_type": "stream",
     "name": "stdout",
     "text": [
      "[[1 2 4 0]\n [1 9 0 1]\n [3 7 8 5]\n [2 6 5 1]\n [9 5 0 4]\n [0 3 3 8]\n [1 0 8 1]\n [7 6 9 4]]\n"
     ]
    }
   ],
   "source": [
    "maze = Maze(width=4, height=8)\n",
    "print(maze.maze)"
   ]
  },
  {
   "cell_type": "code",
   "execution_count": 106,
   "metadata": {},
   "outputs": [
    {
     "output_type": "stream",
     "name": "stdout",
     "text": [
      "Start at 1... going to 4\nCurrently at 0, located on x=2, y=1\nCannot move diagonally!\n"
     ]
    }
   ],
   "source": [
    "print(f\"Start at {maze.start}... going to {maze.end}\")\n",
    "print(maze.pointer)\n",
    "maze.move_pointer(x_pos=3, y_pos=2)"
   ]
  },
  {
   "cell_type": "code",
   "execution_count": null,
   "metadata": {},
   "outputs": [],
   "source": []
  }
 ]
}