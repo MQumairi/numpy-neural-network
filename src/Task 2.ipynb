{
 "metadata": {
  "language_info": {
   "codemirror_mode": {
    "name": "ipython",
    "version": 3
   },
   "file_extension": ".py",
   "mimetype": "text/x-python",
   "name": "python",
   "nbconvert_exporter": "python",
   "pygments_lexer": "ipython3",
   "version": "3.8.3-final"
  },
  "orig_nbformat": 2,
  "kernelspec": {
   "name": "python3",
   "display_name": "Python 3",
   "language": "python"
  }
 },
 "nbformat": 4,
 "nbformat_minor": 2,
 "cells": [
  {
   "source": [
    "# Task 2\n",
    "\n",
    "The second task is about classifying handwritten digits. We will use the MNIST dataset for training and testing. The point of this task is to develop a multi-layer neural network for classification using mostly Numpy:\n",
    "* Implement sigmoid and relu layers (with forward and backward pass) \n",
    "* Implement a softmax output layer \n",
    "* Implement a fully parameterizable neural network (number and types of layers, number  of units) \n",
    "* Implement an optimizer (e.g. SGD or Adam) and a stopping criterion of your choosing \n",
    "* Train your Neural Network using backpropagation.\n",
    "\n",
    "Evaluate different neural network architectures and compare your different results. You can also compare with the results presented in http://yann.lecun.com/exdb/mnist/\n"
   ],
   "cell_type": "markdown",
   "metadata": {}
  },
  {
   "source": [
    "### Loading the Data Set\n",
    "\n",
    "We will use Pytorch's torchvision module to load the MNIST dataset."
   ],
   "cell_type": "markdown",
   "metadata": {}
  },
  {
   "cell_type": "code",
   "execution_count": 1,
   "metadata": {},
   "outputs": [],
   "source": [
    "import torch\n",
    "import torchvision\n",
    "import torchvision.transforms as transforms\n",
    "import matplotlib.pyplot as plt\n",
    "import numpy as np\n",
    "import util"
   ]
  },
  {
   "cell_type": "code",
   "execution_count": 2,
   "metadata": {},
   "outputs": [],
   "source": [
    "# Downloading MNIST\n",
    "# Resources used:\n",
    "# https://pytorch.org/tutorials/beginner/blitz/cifar10_tutorial.html\n",
    "# https://pytorch.org/docs/stable/torchvision/datasets.html#mnist\n",
    "\n",
    "transform = transforms.Compose(\n",
    "    [transforms.ToTensor()])\n",
    "\n",
    "#Transet is the entire train set... each item is a 2-tuple, containing an tensor (numeric rep of image) and the target value (int)\n",
    "trainset = torchvision.datasets.MNIST(root='./data', train=True, download=True, transform=transform)\n",
    "trainloader = torch.utils.data.DataLoader(trainset, batch_size=4, shuffle=True, num_workers=2)\n",
    "\n",
    "testset = torchvision.datasets.MNIST(root='./data', train=False, download=True, transform=transform)\n",
    "testloader = torch.utils.data.DataLoader(testset, batch_size=4, shuffle=False, num_workers=2)"
   ]
  },
  {
   "cell_type": "code",
   "execution_count": 3,
   "metadata": {},
   "outputs": [
    {
     "output_type": "stream",
     "name": "stdout",
     "text": [
      "\nSize of Train set is 60000\nSize of Test set is 10000\n\nImage depicts the target: 5\n"
     ]
    },
    {
     "output_type": "display_data",
     "data": {
      "text/plain": "<Figure size 432x288 with 1 Axes>",
      "image/svg+xml": "<?xml version=\"1.0\" encoding=\"utf-8\" standalone=\"no\"?>\n<!DOCTYPE svg PUBLIC \"-//W3C//DTD SVG 1.1//EN\"\n  \"http://www.w3.org/Graphics/SVG/1.1/DTD/svg11.dtd\">\n<!-- Created with matplotlib (https://matplotlib.org/) -->\n<svg height=\"248.518125pt\" version=\"1.1\" viewBox=\"0 0 251.565 248.518125\" width=\"251.565pt\" xmlns=\"http://www.w3.org/2000/svg\" xmlns:xlink=\"http://www.w3.org/1999/xlink\">\n <defs>\n  <style type=\"text/css\">\n*{stroke-linecap:butt;stroke-linejoin:round;}\n  </style>\n </defs>\n <g id=\"figure_1\">\n  <g id=\"patch_1\">\n   <path d=\"M 0 248.518125 \nL 251.565 248.518125 \nL 251.565 0 \nL 0 0 \nz\n\" style=\"fill:none;\"/>\n  </g>\n  <g id=\"axes_1\">\n   <g id=\"patch_2\">\n    <path d=\"M 26.925 224.64 \nL 244.365 224.64 \nL 244.365 7.2 \nL 26.925 7.2 \nz\n\" style=\"fill:#ffffff;\"/>\n   </g>\n   <g clip-path=\"url(#pd781c206b1)\">\n    <image height=\"218\" id=\"image881929db2e\" transform=\"scale(1 -1)translate(0 -218)\" width=\"218\" x=\"26.925\" xlink:href=\"data:image/png;base64,\niVBORw0KGgoAAAANSUhEUgAAANoAAADaCAYAAADAHVzbAAAABHNCSVQICAgIfAhkiAAABh1JREFUeJzt3btL1v0fx3Hvn9JwdxIbCoIIG4yKCDoIEUkEBVGQHYaG1iapqSUIWowgapAapCHwPyhaCiFrCCTpNARBUwSOCZ0ozO7pHn7wu97Spb78qY/H+uLr9zv45APXl0v/amlp+d0CzKn/zPcDwFIgNAgQGgQIDQKEBgFCgwChQYDQIEBoECA0CBAaBAgNAoQGAUKDAKFBgNAgQGgQIDQIEBoECA0ChAYBQoOAtvm8+bVr18r94sWLc3bvt2/flvuDBw/KfXJystxv3LjRcJuYmCivZfFxokGA0CBAaBAgNAgQGgQIDQKEBgF/tczjv23q7u4u9+neo+3Zs6fhtn79+qaeabZ8+/at4TYwMFBee/Xq1XL/+vVrU8/E/HGiQYDQIEBoECA0CBAaBAgNAoQGAfP6Hm2mOjo6Gm6Dg4PltTt27Cj3zs7Opp5pNjx79qzcq++6tbS0tDx8+LDcv3///sfPxMw40SBAaBAgNAgQGgQIDQKEBgFCg4AF/R5tJtauXVvuW7ZsKfdbt26V++bNm//4mWbL6OhouV+/fr3hdu/evfLaqamppp5pqXOiQYDQIEBoECA0CBAaBAgNAoQGAUv2PdpMrVu3rtzPnDnTcOvr6yuv3bhxYzOPNCvGxsbKvb+/v9zv378/m4+zaDjRIEBoECA0CBAaBAgNAoQGAT7enwddXV3lPt3H/ydOnCj36V49zMSvX7/KfXh4uNyPHDkym4+zYDjRIEBoECA0CBAaBAgNAoQGAUKDAO/RFqDt27eX+6lTp8p99+7dDbdDhw419Uz/evPmTbnv3Lmz4baY/5SdEw0ChAYBQoMAoUGA0CBAaBAgNAjwHo3/8uPHj3Jva2sr98nJyXI/fPhww21kZKS8diFzokGA0CBAaBAgNAgQGgQIDQKEBgH1SxEWpPb29nI/duxYw621tXVG93769Gm5L+Z3ZRUnGgQIDQKEBgFCgwChQYDQIMDH+wvQtm3byv3mzZvlfvDgwabvPTg4WO79/f1N/+zFzIkGAUKDAKFBgNAgQGgQIDQIEBoEeI/2f6i3t7fc7969W+4rV65s+t6XLl0q96GhoXIfHx9v+t6LmRMNAoQGAUKDAKFBgNAgQGgQIDQI8G+b5sGmTZvK/cWLF+U+MTFR7o8fPy73sbGxhtvt27fLa3//9uvSDCcaBAgNAoQGAUKDAKFBgNAgQGgQ4Ptoc2T58uUNtzt37pTXrlixotxPnz5d7o8ePSp38pxoECA0CBAaBAgNAoQGAUKDAKFBgPdoc+TKlSsNt56envLaJ0+elPvw8HAzj8Q8cqJBgNAgQGgQIDQIEBoECA0CfLzfwKpVq8r98+fP5b569eqm7z3d12impqaa/tnMDycaBAgNAoQGAUKDAKFBgNAgQGgQsGT/bdPx48fL/ejRo+X+8uXLch8YGPjjZ/rXq1evyn3//v3l/vXr13LfunVrw+3ChQvltefOnSt3/jcnGgQIDQKEBgFCgwChQYDQIEBoELBo36N1dHSU++joaLl3dnbO5uPMqumefWJiotwPHDjQcPv582d57Uy+Z7eUOdEgQGgQIDQIEBoECA0ChAYBQoOARft3HTds2FDua9asCT3J7Ovu7p6zn93WVv9KnD17tty/fPnS9L3Hx8fL/dOnT+X+7t27pu8915xoECA0CBAaBAgNAoQGAUKDAKFBwKL9Ptp0pnvPtmzZsnLfu3dvue/bt6/h1t7eXl578uTJcp9PHz9+LPfnz5+Xe29vb8Ntur9H+fr163K/fPlyuY+MjJT7XHKiQYDQIEBoECA0CBAaBAgNAhbt12Sm8+HDhxld//79+3IfGhpquLW2tpbXzvWfdOvr62u4/f333+W1XV1d5X7+/Plyr/6c3ZkzZ8prd+3aVe49PT3l7uN9WOSEBgFCgwChQYDQIEBoECA0CFiyX5OBJCcaBAgNAoQGAUKDAKFBgNAgQGgQIDQIEBoECA0ChAYBQoMAoUGA0CBAaBAgNAgQGgQIDQKEBgFCgwChQYDQIEBoECA0CBAaBAgNAoQGAUKDAKFBgNAgQGgQIDQIEBoECA0ChAYBQoMAoUGA0CDgH3A/6eMhCpt6AAAAAElFTkSuQmCC\" y=\"-6.64\"/>\n   </g>\n   <g id=\"matplotlib.axis_1\">\n    <g id=\"xtick_1\">\n     <g id=\"line2d_1\">\n      <defs>\n       <path d=\"M 0 0 \nL 0 3.5 \n\" id=\"m149c2d4b29\" style=\"stroke:#000000;stroke-width:0.8;\"/>\n      </defs>\n      <g>\n       <use style=\"stroke:#000000;stroke-width:0.8;\" x=\"30.807857\" xlink:href=\"#m149c2d4b29\" y=\"224.64\"/>\n      </g>\n     </g>\n     <g id=\"text_1\">\n      <!-- 0 -->\n      <defs>\n       <path d=\"M 31.78125 66.40625 \nQ 24.171875 66.40625 20.328125 58.90625 \nQ 16.5 51.421875 16.5 36.375 \nQ 16.5 21.390625 20.328125 13.890625 \nQ 24.171875 6.390625 31.78125 6.390625 \nQ 39.453125 6.390625 43.28125 13.890625 \nQ 47.125 21.390625 47.125 36.375 \nQ 47.125 51.421875 43.28125 58.90625 \nQ 39.453125 66.40625 31.78125 66.40625 \nz\nM 31.78125 74.21875 \nQ 44.046875 74.21875 50.515625 64.515625 \nQ 56.984375 54.828125 56.984375 36.375 \nQ 56.984375 17.96875 50.515625 8.265625 \nQ 44.046875 -1.421875 31.78125 -1.421875 \nQ 19.53125 -1.421875 13.0625 8.265625 \nQ 6.59375 17.96875 6.59375 36.375 \nQ 6.59375 54.828125 13.0625 64.515625 \nQ 19.53125 74.21875 31.78125 74.21875 \nz\n\" id=\"DejaVuSans-48\"/>\n      </defs>\n      <g transform=\"translate(27.626607 239.238437)scale(0.1 -0.1)\">\n       <use xlink:href=\"#DejaVuSans-48\"/>\n      </g>\n     </g>\n    </g>\n    <g id=\"xtick_2\">\n     <g id=\"line2d_2\">\n      <g>\n       <use style=\"stroke:#000000;stroke-width:0.8;\" x=\"69.636429\" xlink:href=\"#m149c2d4b29\" y=\"224.64\"/>\n      </g>\n     </g>\n     <g id=\"text_2\">\n      <!-- 5 -->\n      <defs>\n       <path d=\"M 10.796875 72.90625 \nL 49.515625 72.90625 \nL 49.515625 64.59375 \nL 19.828125 64.59375 \nL 19.828125 46.734375 \nQ 21.96875 47.46875 24.109375 47.828125 \nQ 26.265625 48.1875 28.421875 48.1875 \nQ 40.625 48.1875 47.75 41.5 \nQ 54.890625 34.8125 54.890625 23.390625 \nQ 54.890625 11.625 47.5625 5.09375 \nQ 40.234375 -1.421875 26.90625 -1.421875 \nQ 22.3125 -1.421875 17.546875 -0.640625 \nQ 12.796875 0.140625 7.71875 1.703125 \nL 7.71875 11.625 \nQ 12.109375 9.234375 16.796875 8.0625 \nQ 21.484375 6.890625 26.703125 6.890625 \nQ 35.15625 6.890625 40.078125 11.328125 \nQ 45.015625 15.765625 45.015625 23.390625 \nQ 45.015625 31 40.078125 35.4375 \nQ 35.15625 39.890625 26.703125 39.890625 \nQ 22.75 39.890625 18.8125 39.015625 \nQ 14.890625 38.140625 10.796875 36.28125 \nz\n\" id=\"DejaVuSans-53\"/>\n      </defs>\n      <g transform=\"translate(66.455179 239.238437)scale(0.1 -0.1)\">\n       <use xlink:href=\"#DejaVuSans-53\"/>\n      </g>\n     </g>\n    </g>\n    <g id=\"xtick_3\">\n     <g id=\"line2d_3\">\n      <g>\n       <use style=\"stroke:#000000;stroke-width:0.8;\" x=\"108.465\" xlink:href=\"#m149c2d4b29\" y=\"224.64\"/>\n      </g>\n     </g>\n     <g id=\"text_3\">\n      <!-- 10 -->\n      <defs>\n       <path d=\"M 12.40625 8.296875 \nL 28.515625 8.296875 \nL 28.515625 63.921875 \nL 10.984375 60.40625 \nL 10.984375 69.390625 \nL 28.421875 72.90625 \nL 38.28125 72.90625 \nL 38.28125 8.296875 \nL 54.390625 8.296875 \nL 54.390625 0 \nL 12.40625 0 \nz\n\" id=\"DejaVuSans-49\"/>\n      </defs>\n      <g transform=\"translate(102.1025 239.238437)scale(0.1 -0.1)\">\n       <use xlink:href=\"#DejaVuSans-49\"/>\n       <use x=\"63.623047\" xlink:href=\"#DejaVuSans-48\"/>\n      </g>\n     </g>\n    </g>\n    <g id=\"xtick_4\">\n     <g id=\"line2d_4\">\n      <g>\n       <use style=\"stroke:#000000;stroke-width:0.8;\" x=\"147.293571\" xlink:href=\"#m149c2d4b29\" y=\"224.64\"/>\n      </g>\n     </g>\n     <g id=\"text_4\">\n      <!-- 15 -->\n      <g transform=\"translate(140.931071 239.238437)scale(0.1 -0.1)\">\n       <use xlink:href=\"#DejaVuSans-49\"/>\n       <use x=\"63.623047\" xlink:href=\"#DejaVuSans-53\"/>\n      </g>\n     </g>\n    </g>\n    <g id=\"xtick_5\">\n     <g id=\"line2d_5\">\n      <g>\n       <use style=\"stroke:#000000;stroke-width:0.8;\" x=\"186.122143\" xlink:href=\"#m149c2d4b29\" y=\"224.64\"/>\n      </g>\n     </g>\n     <g id=\"text_5\">\n      <!-- 20 -->\n      <defs>\n       <path d=\"M 19.1875 8.296875 \nL 53.609375 8.296875 \nL 53.609375 0 \nL 7.328125 0 \nL 7.328125 8.296875 \nQ 12.9375 14.109375 22.625 23.890625 \nQ 32.328125 33.6875 34.8125 36.53125 \nQ 39.546875 41.84375 41.421875 45.53125 \nQ 43.3125 49.21875 43.3125 52.78125 \nQ 43.3125 58.59375 39.234375 62.25 \nQ 35.15625 65.921875 28.609375 65.921875 \nQ 23.96875 65.921875 18.8125 64.3125 \nQ 13.671875 62.703125 7.8125 59.421875 \nL 7.8125 69.390625 \nQ 13.765625 71.78125 18.9375 73 \nQ 24.125 74.21875 28.421875 74.21875 \nQ 39.75 74.21875 46.484375 68.546875 \nQ 53.21875 62.890625 53.21875 53.421875 \nQ 53.21875 48.921875 51.53125 44.890625 \nQ 49.859375 40.875 45.40625 35.40625 \nQ 44.1875 33.984375 37.640625 27.21875 \nQ 31.109375 20.453125 19.1875 8.296875 \nz\n\" id=\"DejaVuSans-50\"/>\n      </defs>\n      <g transform=\"translate(179.759643 239.238437)scale(0.1 -0.1)\">\n       <use xlink:href=\"#DejaVuSans-50\"/>\n       <use x=\"63.623047\" xlink:href=\"#DejaVuSans-48\"/>\n      </g>\n     </g>\n    </g>\n    <g id=\"xtick_6\">\n     <g id=\"line2d_6\">\n      <g>\n       <use style=\"stroke:#000000;stroke-width:0.8;\" x=\"224.950714\" xlink:href=\"#m149c2d4b29\" y=\"224.64\"/>\n      </g>\n     </g>\n     <g id=\"text_6\">\n      <!-- 25 -->\n      <g transform=\"translate(218.588214 239.238437)scale(0.1 -0.1)\">\n       <use xlink:href=\"#DejaVuSans-50\"/>\n       <use x=\"63.623047\" xlink:href=\"#DejaVuSans-53\"/>\n      </g>\n     </g>\n    </g>\n   </g>\n   <g id=\"matplotlib.axis_2\">\n    <g id=\"ytick_1\">\n     <g id=\"line2d_7\">\n      <defs>\n       <path d=\"M 0 0 \nL -3.5 0 \n\" id=\"mf102bc149c\" style=\"stroke:#000000;stroke-width:0.8;\"/>\n      </defs>\n      <g>\n       <use style=\"stroke:#000000;stroke-width:0.8;\" x=\"26.925\" xlink:href=\"#mf102bc149c\" y=\"11.082857\"/>\n      </g>\n     </g>\n     <g id=\"text_7\">\n      <!-- 0 -->\n      <g transform=\"translate(13.5625 14.882076)scale(0.1 -0.1)\">\n       <use xlink:href=\"#DejaVuSans-48\"/>\n      </g>\n     </g>\n    </g>\n    <g id=\"ytick_2\">\n     <g id=\"line2d_8\">\n      <g>\n       <use style=\"stroke:#000000;stroke-width:0.8;\" x=\"26.925\" xlink:href=\"#mf102bc149c\" y=\"49.911429\"/>\n      </g>\n     </g>\n     <g id=\"text_8\">\n      <!-- 5 -->\n      <g transform=\"translate(13.5625 53.710647)scale(0.1 -0.1)\">\n       <use xlink:href=\"#DejaVuSans-53\"/>\n      </g>\n     </g>\n    </g>\n    <g id=\"ytick_3\">\n     <g id=\"line2d_9\">\n      <g>\n       <use style=\"stroke:#000000;stroke-width:0.8;\" x=\"26.925\" xlink:href=\"#mf102bc149c\" y=\"88.74\"/>\n      </g>\n     </g>\n     <g id=\"text_9\">\n      <!-- 10 -->\n      <g transform=\"translate(7.2 92.539219)scale(0.1 -0.1)\">\n       <use xlink:href=\"#DejaVuSans-49\"/>\n       <use x=\"63.623047\" xlink:href=\"#DejaVuSans-48\"/>\n      </g>\n     </g>\n    </g>\n    <g id=\"ytick_4\">\n     <g id=\"line2d_10\">\n      <g>\n       <use style=\"stroke:#000000;stroke-width:0.8;\" x=\"26.925\" xlink:href=\"#mf102bc149c\" y=\"127.568571\"/>\n      </g>\n     </g>\n     <g id=\"text_10\">\n      <!-- 15 -->\n      <g transform=\"translate(7.2 131.36779)scale(0.1 -0.1)\">\n       <use xlink:href=\"#DejaVuSans-49\"/>\n       <use x=\"63.623047\" xlink:href=\"#DejaVuSans-53\"/>\n      </g>\n     </g>\n    </g>\n    <g id=\"ytick_5\">\n     <g id=\"line2d_11\">\n      <g>\n       <use style=\"stroke:#000000;stroke-width:0.8;\" x=\"26.925\" xlink:href=\"#mf102bc149c\" y=\"166.397143\"/>\n      </g>\n     </g>\n     <g id=\"text_11\">\n      <!-- 20 -->\n      <g transform=\"translate(7.2 170.196362)scale(0.1 -0.1)\">\n       <use xlink:href=\"#DejaVuSans-50\"/>\n       <use x=\"63.623047\" xlink:href=\"#DejaVuSans-48\"/>\n      </g>\n     </g>\n    </g>\n    <g id=\"ytick_6\">\n     <g id=\"line2d_12\">\n      <g>\n       <use style=\"stroke:#000000;stroke-width:0.8;\" x=\"26.925\" xlink:href=\"#mf102bc149c\" y=\"205.225714\"/>\n      </g>\n     </g>\n     <g id=\"text_12\">\n      <!-- 25 -->\n      <g transform=\"translate(7.2 209.024933)scale(0.1 -0.1)\">\n       <use xlink:href=\"#DejaVuSans-50\"/>\n       <use x=\"63.623047\" xlink:href=\"#DejaVuSans-53\"/>\n      </g>\n     </g>\n    </g>\n   </g>\n   <g id=\"patch_3\">\n    <path d=\"M 26.925 224.64 \nL 26.925 7.2 \n\" style=\"fill:none;stroke:#000000;stroke-linecap:square;stroke-linejoin:miter;stroke-width:0.8;\"/>\n   </g>\n   <g id=\"patch_4\">\n    <path d=\"M 244.365 224.64 \nL 244.365 7.2 \n\" style=\"fill:none;stroke:#000000;stroke-linecap:square;stroke-linejoin:miter;stroke-width:0.8;\"/>\n   </g>\n   <g id=\"patch_5\">\n    <path d=\"M 26.925 224.64 \nL 244.365 224.64 \n\" style=\"fill:none;stroke:#000000;stroke-linecap:square;stroke-linejoin:miter;stroke-width:0.8;\"/>\n   </g>\n   <g id=\"patch_6\">\n    <path d=\"M 26.925 7.2 \nL 244.365 7.2 \n\" style=\"fill:none;stroke:#000000;stroke-linecap:square;stroke-linejoin:miter;stroke-width:0.8;\"/>\n   </g>\n  </g>\n </g>\n <defs>\n  <clipPath id=\"pd781c206b1\">\n   <rect height=\"217.44\" width=\"217.44\" x=\"26.925\" y=\"7.2\"/>\n  </clipPath>\n </defs>\n</svg>\n",
      "image/png": "[encoded data removed]"
     },
     "metadata": {
      "needs_background": "light"
     }
    }
   ],
   "source": [
    "def display_image(image_pos=0, set=trainset):\n",
    "    # First image's tensor accessed by set[0][0], its shape is 1, 28, 28\n",
    "    # Notice set[0][1] is the target class of that image.. in this case, 5\n",
    "    print(f\"Image depicts the target: {set[image_pos][1]}\")\n",
    "    # imshow(imshow(torchvision.utils.make_grid(trainset[0][0])))\n",
    "    imgplot = plt.imshow(set[image_pos][0].numpy().reshape((28, 28)), cmap='gray')\n",
    "\n",
    "\n",
    "print(f\"\\nSize of Train set is {len(trainset)}\")\n",
    "print(f\"Size of Test set is {len(testset)}\\n\")\n",
    "\n",
    "display_image(image_pos=0, set=trainset)\n"
   ]
  },
  {
   "source": [
    "## The Neural Network"
   ],
   "cell_type": "markdown",
   "metadata": {}
  },
  {
   "cell_type": "code",
   "execution_count": 4,
   "metadata": {},
   "outputs": [],
   "source": [
    "class Layer():\n",
    "    def __init__(self, nodes_of_prev, nodes=784, activation=\"sigmoid\"):\n",
    "        self.nodes = nodes\n",
    "        self.activation = activation\n",
    "        self.nodes_of_prev = nodes_of_prev\n",
    "\n",
    "        #Additionally, each layer has:\n",
    "        # - the weights going into it (nodes x nodes_of_prev)\n",
    "        # - z matrix, the dot product between the previous layer and the weights of this layer (nodes x 1)\n",
    "        # - a matrix, the result of passing z into the activation function (nodes x 1)\n",
    "        # - d matrix (nodes x 1)\n",
    "        self.weights = np.random.rand(self.nodes, self.nodes_of_prev)\n",
    "        self.z = np.random.rand(self.nodes, 1)\n",
    "        self.a = np.random.rand(self.nodes, 1)\n",
    "        self.d = np.zeros(self.a.shape)\n",
    "    \n",
    "    def activate(self):\n",
    "        if(self.activation == \"sigmoid\"):\n",
    "            self.a = self.sigmoid(X=self.z)\n",
    "        if(self.activation == \"softmax\"):\n",
    "            self.a = self.softmax(X=self.z)\n",
    "            self.a = self.a.reshape(self.nodes, 1)\n",
    "    \n",
    "    def deactivate(self, X):\n",
    "        if(self.activation == \"sigmoid\"):\n",
    "            return (self.sigmoid(X=X, diff=True)).reshape(X.shape)\n",
    "    \n",
    "    def sigmoid(self, X, diff=False):\n",
    "        sigmoid_original = 1 / (1 + np.e**(-X))\n",
    "        if (not diff):\n",
    "            return sigmoid_original\n",
    "        else:\n",
    "            return sigmoid_original * (1 - sigmoid_original)\n",
    "\n",
    "    def softmax(self, X):\n",
    "        return (np.e ** X) / sum(np.e ** X)\n",
    "\n"
   ]
  },
  {
   "cell_type": "code",
   "execution_count": 5,
   "metadata": {},
   "outputs": [],
   "source": [
    "class NN():\n",
    "    def __init__(self, X, y, n, lr=0.001):\n",
    "        self.X = X\n",
    "        self.y = y\n",
    "        self.n = n #Number of features\n",
    "        self.m = len(X) #Number of data points\n",
    "        self.layers = []\n",
    "        self.loss_history = []\n",
    "        self.a0 = None\n",
    "        self.hx = None\n",
    "        self.lr = lr\n",
    "    \n",
    "    def add_layer(self, nodes=784, activation=\"sigmoid\"):\n",
    "        number_of_layers = len(self.layers)\n",
    "        #If the layers array is empty, the layer to be added will have its nodes_of_prev equal n\n",
    "        if number_of_layers == 0:\n",
    "            layer_to_add = Layer(nodes_of_prev=len(self.X[0]), nodes=nodes, activation=activation)\n",
    "            self.layers.append(layer_to_add)\n",
    "        #Else, the layer to be added will have its nodes_of_prev equal the nodes of the previous layer in self.layers\n",
    "        else:\n",
    "            prev_layer = self.layers[number_of_layers - 1]\n",
    "            layer_to_add = Layer(nodes_of_prev=prev_layer.nodes, nodes=nodes, activation=activation)\n",
    "            self.layers.append(layer_to_add)\n",
    "    \n",
    "    def forward_pass(self, X):\n",
    "        for i in range(len(self.layers)):\n",
    "            layer = self.layers[i]\n",
    "            # print(f\"Forward, to layer {i}!\")\n",
    "            if i == 0:\n",
    "                self.a0 = X\n",
    "                layer.z = layer.weights.dot(self.a0)\n",
    "                layer.activate()\n",
    "            else:\n",
    "                prev_layer = self.layers[i - 1]\n",
    "                layer.z = layer.weights.dot(prev_layer.a)\n",
    "                layer.activate()\n",
    "                if i == (len(self.layers) - 1):\n",
    "                    self.hx = layer.a\n",
    "    \n",
    "    def backward_pass(self, X, y):\n",
    "        y = y.reshape(self.hx.shape)\n",
    "        last_layer_index = len(self.layers) - 1\n",
    "\n",
    "        #Calculate All Deltas\n",
    "        i = last_layer_index\n",
    "        while i >= 0:\n",
    "            # print(f\"Calculating Deltas of layer {i}\")\n",
    "            layer = self.layers[i]\n",
    "            #If this is the last layer\n",
    "            if (i == last_layer_index):\n",
    "                layer.d = self.hx - y\n",
    "                # print(f\"Layer {i}'s delta, has shape {layer.d.shape}'\")\n",
    "            else:\n",
    "                next_layer = self.layers[i + 1]\n",
    "                deactivated_z = layer.deactivate(layer.z)\n",
    "                deactivated_z = deactivated_z.reshape(layer.z.shape[0], 1)\n",
    "                layer.d = next_layer.weights.transpose().dot(next_layer.d) * deactivated_z\n",
    "                # print(f\"Layer {i}'s delta, has shape {layer.d.shape}'\")\n",
    "            #Decrement\n",
    "            i -= 1\n",
    "        \n",
    "        #Update all Weights\n",
    "        for i in range(len(self.layers)):\n",
    "            # print(f\"Updating weights of layer {i}\")\n",
    "            layer = self.layers[i]\n",
    "\n",
    "            if (i == 0):\n",
    "                self.a0 = X.reshape(self.n, 1)\n",
    "                layer.weights -= layer.d.dot(self.a0.transpose()) / self.m\n",
    "            else:\n",
    "                prev_layer = self.layers[i - 1]\n",
    "                prev_layer.a = prev_layer.a.reshape(prev_layer.a.shape[0], 1)\n",
    "                layer.weights -= layer.d.dot(prev_layer.a.transpose()) / self.m\n",
    "\n",
    "    def fit(self, epochs):\n",
    "        loss = 0\n",
    "        for e in range(epochs):\n",
    "            print(f\"Starting epoch {e + 1}/{epochs}\")\n",
    "            for i in range(self.m):\n",
    "                Xi = self.X[i]\n",
    "                yi = self.y[i]\n",
    "                self.forward_pass(Xi)\n",
    "                self.backward_pass(Xi, yi)\n",
    "                loss = self.calc_loss(self.hx, yi)\n",
    "                self.loss_history.append(loss)\n",
    "            print(f\"Loss is {loss}\")\n",
    "\n",
    "    def calc_loss(self, hx, y):\n",
    "        y = np.array(y)\n",
    "        loss = (sum(sum((y * np.log(hx)) + ((1 - y) * np.log(1 - hx)))) / self.m) * -1\n",
    "        return loss\n"
   ]
  },
  {
   "cell_type": "code",
   "execution_count": 9,
   "metadata": {},
   "outputs": [],
   "source": [
    "features, target = util.preprocess(X=trainset.data, y=trainset.targets, m=len(trainset.data), n=len(trainset.data[0])**2)\n",
    "nn = NN(X=features, y=target, n=784, lr=0.1)\n",
    "nn.add_layer(nodes=200)\n",
    "nn.add_layer(nodes=150)\n",
    "nn.add_layer(nodes=10, activation=\"softmax\")"
   ]
  },
  {
   "cell_type": "code",
   "execution_count": 10,
   "metadata": {
    "tags": []
   },
   "outputs": [
    {
     "output_type": "stream",
     "name": "stdout",
     "text": [
      "Starting epoch 1/10\n",
      "Loss is 0.0005420410752828248\n",
      "Starting epoch 2/10\n",
      "Loss is 0.0005420410776201727\n",
      "Starting epoch 3/10\n",
      "Loss is 0.0005420410776201915\n",
      "Starting epoch 4/10\n",
      "Loss is 0.0005420410776201914\n",
      "Starting epoch 5/10\n",
      "Loss is 0.0005420410776201916\n",
      "Starting epoch 6/10\n",
      "Loss is 0.0005420410776201914\n",
      "Starting epoch 7/10\n",
      "Loss is 0.0005420410776201914\n",
      "Starting epoch 8/10\n",
      "Loss is 0.0005420410776201914\n",
      "Starting epoch 9/10\n",
      "Loss is 0.0005420410776201915\n",
      "Starting epoch 10/10\n",
      "Loss is 0.0005420410776201916\n"
     ]
    }
   ],
   "source": [
    "epochs_to_do = 10\n",
    "nn.fit(epochs=epochs_to_do)"
   ]
  },
  {
   "cell_type": "code",
   "execution_count": 11,
   "metadata": {},
   "outputs": [
    {
     "output_type": "stream",
     "name": "stdout",
     "text": [
      "600000\n"
     ]
    },
    {
     "output_type": "execute_result",
     "data": {
      "text/plain": [
       "[<matplotlib.lines.Line2D at 0x7fd5814f1dc0>]"
      ]
     },
     "metadata": {},
     "execution_count": 11
    },
    {
     "output_type": "display_data",
     "data": {
      "text/plain": "<Figure size 432x288 with 1 Axes>",
      "image/svg+xml": "<?xml version=\"1.0\" encoding=\"utf-8\" standalone=\"no\"?>\n<!DOCTYPE svg PUBLIC \"-//W3C//DTD SVG 1.1//EN\"\n  \"http://www.w3.org/Graphics/SVG/1.1/DTD/svg11.dtd\">\n<!-- Created with matplotlib (https://matplotlib.org/) -->\n<svg height=\"248.518125pt\" version=\"1.1\" viewBox=\"0 0 395.06045 248.518125\" width=\"395.06045pt\" xmlns=\"http://www.w3.org/2000/svg\" xmlns:xlink=\"http://www.w3.org/1999/xlink\">\n <defs>\n  <style type=\"text/css\">\n*{stroke-linecap:butt;stroke-linejoin:round;}\n  </style>\n </defs>\n <g id=\"figure_1\">\n  <g id=\"patch_1\">\n   <path d=\"M 0 248.518125 \nL 395.06045 248.518125 \nL 395.06045 0 \nL 0 0 \nz\n\" style=\"fill:none;\"/>\n  </g>\n  <g id=\"axes_1\">\n   <g id=\"patch_2\">\n    <path d=\"M 49.190625 224.64 \nL 383.990625 224.64 \nL 383.990625 7.2 \nL 49.190625 7.2 \nz\n\" style=\"fill:#ffffff;\"/>\n   </g>\n   <g id=\"matplotlib.axis_1\">\n    <g id=\"xtick_1\">\n     <g id=\"line2d_1\">\n      <defs>\n       <path d=\"M 0 0 \nL 0 3.5 \n\" id=\"m21aca25331\" style=\"stroke:#000000;stroke-width:0.8;\"/>\n      </defs>\n      <g>\n       <use style=\"stroke:#000000;stroke-width:0.8;\" x=\"64.408807\" xlink:href=\"#m21aca25331\" y=\"224.64\"/>\n      </g>\n     </g>\n     <g id=\"text_1\">\n      <!-- 0 -->\n      <defs>\n       <path d=\"M 31.78125 66.40625 \nQ 24.171875 66.40625 20.328125 58.90625 \nQ 16.5 51.421875 16.5 36.375 \nQ 16.5 21.390625 20.328125 13.890625 \nQ 24.171875 6.390625 31.78125 6.390625 \nQ 39.453125 6.390625 43.28125 13.890625 \nQ 47.125 21.390625 47.125 36.375 \nQ 47.125 51.421875 43.28125 58.90625 \nQ 39.453125 66.40625 31.78125 66.40625 \nz\nM 31.78125 74.21875 \nQ 44.046875 74.21875 50.515625 64.515625 \nQ 56.984375 54.828125 56.984375 36.375 \nQ 56.984375 17.96875 50.515625 8.265625 \nQ 44.046875 -1.421875 31.78125 -1.421875 \nQ 19.53125 -1.421875 13.0625 8.265625 \nQ 6.59375 17.96875 6.59375 36.375 \nQ 6.59375 54.828125 13.0625 64.515625 \nQ 19.53125 74.21875 31.78125 74.21875 \nz\n\" id=\"DejaVuSans-48\"/>\n      </defs>\n      <g transform=\"translate(61.227557 239.238437)scale(0.1 -0.1)\">\n       <use xlink:href=\"#DejaVuSans-48\"/>\n      </g>\n     </g>\n    </g>\n    <g id=\"xtick_2\">\n     <g id=\"line2d_2\">\n      <g>\n       <use style=\"stroke:#000000;stroke-width:0.8;\" x=\"115.136164\" xlink:href=\"#m21aca25331\" y=\"224.64\"/>\n      </g>\n     </g>\n     <g id=\"text_2\">\n      <!-- 100000 -->\n      <defs>\n       <path d=\"M 12.40625 8.296875 \nL 28.515625 8.296875 \nL 28.515625 63.921875 \nL 10.984375 60.40625 \nL 10.984375 69.390625 \nL 28.421875 72.90625 \nL 38.28125 72.90625 \nL 38.28125 8.296875 \nL 54.390625 8.296875 \nL 54.390625 0 \nL 12.40625 0 \nz\n\" id=\"DejaVuSans-49\"/>\n      </defs>\n      <g transform=\"translate(96.048664 239.238437)scale(0.1 -0.1)\">\n       <use xlink:href=\"#DejaVuSans-49\"/>\n       <use x=\"63.623047\" xlink:href=\"#DejaVuSans-48\"/>\n       <use x=\"127.246094\" xlink:href=\"#DejaVuSans-48\"/>\n       <use x=\"190.869141\" xlink:href=\"#DejaVuSans-48\"/>\n       <use x=\"254.492188\" xlink:href=\"#DejaVuSans-48\"/>\n       <use x=\"318.115234\" xlink:href=\"#DejaVuSans-48\"/>\n      </g>\n     </g>\n    </g>\n    <g id=\"xtick_3\">\n     <g id=\"line2d_3\">\n      <g>\n       <use style=\"stroke:#000000;stroke-width:0.8;\" x=\"165.863521\" xlink:href=\"#m21aca25331\" y=\"224.64\"/>\n      </g>\n     </g>\n     <g id=\"text_3\">\n      <!-- 200000 -->\n      <defs>\n       <path d=\"M 19.1875 8.296875 \nL 53.609375 8.296875 \nL 53.609375 0 \nL 7.328125 0 \nL 7.328125 8.296875 \nQ 12.9375 14.109375 22.625 23.890625 \nQ 32.328125 33.6875 34.8125 36.53125 \nQ 39.546875 41.84375 41.421875 45.53125 \nQ 43.3125 49.21875 43.3125 52.78125 \nQ 43.3125 58.59375 39.234375 62.25 \nQ 35.15625 65.921875 28.609375 65.921875 \nQ 23.96875 65.921875 18.8125 64.3125 \nQ 13.671875 62.703125 7.8125 59.421875 \nL 7.8125 69.390625 \nQ 13.765625 71.78125 18.9375 73 \nQ 24.125 74.21875 28.421875 74.21875 \nQ 39.75 74.21875 46.484375 68.546875 \nQ 53.21875 62.890625 53.21875 53.421875 \nQ 53.21875 48.921875 51.53125 44.890625 \nQ 49.859375 40.875 45.40625 35.40625 \nQ 44.1875 33.984375 37.640625 27.21875 \nQ 31.109375 20.453125 19.1875 8.296875 \nz\n\" id=\"DejaVuSans-50\"/>\n      </defs>\n      <g transform=\"translate(146.776021 239.238437)scale(0.1 -0.1)\">\n       <use xlink:href=\"#DejaVuSans-50\"/>\n       <use x=\"63.623047\" xlink:href=\"#DejaVuSans-48\"/>\n       <use x=\"127.246094\" xlink:href=\"#DejaVuSans-48\"/>\n       <use x=\"190.869141\" xlink:href=\"#DejaVuSans-48\"/>\n       <use x=\"254.492188\" xlink:href=\"#DejaVuSans-48\"/>\n       <use x=\"318.115234\" xlink:href=\"#DejaVuSans-48\"/>\n      </g>\n     </g>\n    </g>\n    <g id=\"xtick_4\">\n     <g id=\"line2d_4\">\n      <g>\n       <use style=\"stroke:#000000;stroke-width:0.8;\" x=\"216.590879\" xlink:href=\"#m21aca25331\" y=\"224.64\"/>\n      </g>\n     </g>\n     <g id=\"text_4\">\n      <!-- 300000 -->\n      <defs>\n       <path d=\"M 40.578125 39.3125 \nQ 47.65625 37.796875 51.625 33 \nQ 55.609375 28.21875 55.609375 21.1875 \nQ 55.609375 10.40625 48.1875 4.484375 \nQ 40.765625 -1.421875 27.09375 -1.421875 \nQ 22.515625 -1.421875 17.65625 -0.515625 \nQ 12.796875 0.390625 7.625 2.203125 \nL 7.625 11.71875 \nQ 11.71875 9.328125 16.59375 8.109375 \nQ 21.484375 6.890625 26.8125 6.890625 \nQ 36.078125 6.890625 40.9375 10.546875 \nQ 45.796875 14.203125 45.796875 21.1875 \nQ 45.796875 27.640625 41.28125 31.265625 \nQ 36.765625 34.90625 28.71875 34.90625 \nL 20.21875 34.90625 \nL 20.21875 43.015625 \nL 29.109375 43.015625 \nQ 36.375 43.015625 40.234375 45.921875 \nQ 44.09375 48.828125 44.09375 54.296875 \nQ 44.09375 59.90625 40.109375 62.90625 \nQ 36.140625 65.921875 28.71875 65.921875 \nQ 24.65625 65.921875 20.015625 65.03125 \nQ 15.375 64.15625 9.8125 62.3125 \nL 9.8125 71.09375 \nQ 15.4375 72.65625 20.34375 73.4375 \nQ 25.25 74.21875 29.59375 74.21875 \nQ 40.828125 74.21875 47.359375 69.109375 \nQ 53.90625 64.015625 53.90625 55.328125 \nQ 53.90625 49.265625 50.4375 45.09375 \nQ 46.96875 40.921875 40.578125 39.3125 \nz\n\" id=\"DejaVuSans-51\"/>\n      </defs>\n      <g transform=\"translate(197.503379 239.238437)scale(0.1 -0.1)\">\n       <use xlink:href=\"#DejaVuSans-51\"/>\n       <use x=\"63.623047\" xlink:href=\"#DejaVuSans-48\"/>\n       <use x=\"127.246094\" xlink:href=\"#DejaVuSans-48\"/>\n       <use x=\"190.869141\" xlink:href=\"#DejaVuSans-48\"/>\n       <use x=\"254.492188\" xlink:href=\"#DejaVuSans-48\"/>\n       <use x=\"318.115234\" xlink:href=\"#DejaVuSans-48\"/>\n      </g>\n     </g>\n    </g>\n    <g id=\"xtick_5\">\n     <g id=\"line2d_5\">\n      <g>\n       <use style=\"stroke:#000000;stroke-width:0.8;\" x=\"267.318236\" xlink:href=\"#m21aca25331\" y=\"224.64\"/>\n      </g>\n     </g>\n     <g id=\"text_5\">\n      <!-- 400000 -->\n      <defs>\n       <path d=\"M 37.796875 64.3125 \nL 12.890625 25.390625 \nL 37.796875 25.390625 \nz\nM 35.203125 72.90625 \nL 47.609375 72.90625 \nL 47.609375 25.390625 \nL 58.015625 25.390625 \nL 58.015625 17.1875 \nL 47.609375 17.1875 \nL 47.609375 0 \nL 37.796875 0 \nL 37.796875 17.1875 \nL 4.890625 17.1875 \nL 4.890625 26.703125 \nz\n\" id=\"DejaVuSans-52\"/>\n      </defs>\n      <g transform=\"translate(248.230736 239.238437)scale(0.1 -0.1)\">\n       <use xlink:href=\"#DejaVuSans-52\"/>\n       <use x=\"63.623047\" xlink:href=\"#DejaVuSans-48\"/>\n       <use x=\"127.246094\" xlink:href=\"#DejaVuSans-48\"/>\n       <use x=\"190.869141\" xlink:href=\"#DejaVuSans-48\"/>\n       <use x=\"254.492188\" xlink:href=\"#DejaVuSans-48\"/>\n       <use x=\"318.115234\" xlink:href=\"#DejaVuSans-48\"/>\n      </g>\n     </g>\n    </g>\n    <g id=\"xtick_6\">\n     <g id=\"line2d_6\">\n      <g>\n       <use style=\"stroke:#000000;stroke-width:0.8;\" x=\"318.045593\" xlink:href=\"#m21aca25331\" y=\"224.64\"/>\n      </g>\n     </g>\n     <g id=\"text_6\">\n      <!-- 500000 -->\n      <defs>\n       <path d=\"M 10.796875 72.90625 \nL 49.515625 72.90625 \nL 49.515625 64.59375 \nL 19.828125 64.59375 \nL 19.828125 46.734375 \nQ 21.96875 47.46875 24.109375 47.828125 \nQ 26.265625 48.1875 28.421875 48.1875 \nQ 40.625 48.1875 47.75 41.5 \nQ 54.890625 34.8125 54.890625 23.390625 \nQ 54.890625 11.625 47.5625 5.09375 \nQ 40.234375 -1.421875 26.90625 -1.421875 \nQ 22.3125 -1.421875 17.546875 -0.640625 \nQ 12.796875 0.140625 7.71875 1.703125 \nL 7.71875 11.625 \nQ 12.109375 9.234375 16.796875 8.0625 \nQ 21.484375 6.890625 26.703125 6.890625 \nQ 35.15625 6.890625 40.078125 11.328125 \nQ 45.015625 15.765625 45.015625 23.390625 \nQ 45.015625 31 40.078125 35.4375 \nQ 35.15625 39.890625 26.703125 39.890625 \nQ 22.75 39.890625 18.8125 39.015625 \nQ 14.890625 38.140625 10.796875 36.28125 \nz\n\" id=\"DejaVuSans-53\"/>\n      </defs>\n      <g transform=\"translate(298.958093 239.238437)scale(0.1 -0.1)\">\n       <use xlink:href=\"#DejaVuSans-53\"/>\n       <use x=\"63.623047\" xlink:href=\"#DejaVuSans-48\"/>\n       <use x=\"127.246094\" xlink:href=\"#DejaVuSans-48\"/>\n       <use x=\"190.869141\" xlink:href=\"#DejaVuSans-48\"/>\n       <use x=\"254.492188\" xlink:href=\"#DejaVuSans-48\"/>\n       <use x=\"318.115234\" xlink:href=\"#DejaVuSans-48\"/>\n      </g>\n     </g>\n    </g>\n    <g id=\"xtick_7\">\n     <g id=\"line2d_7\">\n      <g>\n       <use style=\"stroke:#000000;stroke-width:0.8;\" x=\"368.77295\" xlink:href=\"#m21aca25331\" y=\"224.64\"/>\n      </g>\n     </g>\n     <g id=\"text_7\">\n      <!-- 600000 -->\n      <defs>\n       <path d=\"M 33.015625 40.375 \nQ 26.375 40.375 22.484375 35.828125 \nQ 18.609375 31.296875 18.609375 23.390625 \nQ 18.609375 15.53125 22.484375 10.953125 \nQ 26.375 6.390625 33.015625 6.390625 \nQ 39.65625 6.390625 43.53125 10.953125 \nQ 47.40625 15.53125 47.40625 23.390625 \nQ 47.40625 31.296875 43.53125 35.828125 \nQ 39.65625 40.375 33.015625 40.375 \nz\nM 52.59375 71.296875 \nL 52.59375 62.3125 \nQ 48.875 64.0625 45.09375 64.984375 \nQ 41.3125 65.921875 37.59375 65.921875 \nQ 27.828125 65.921875 22.671875 59.328125 \nQ 17.53125 52.734375 16.796875 39.40625 \nQ 19.671875 43.65625 24.015625 45.921875 \nQ 28.375 48.1875 33.59375 48.1875 \nQ 44.578125 48.1875 50.953125 41.515625 \nQ 57.328125 34.859375 57.328125 23.390625 \nQ 57.328125 12.15625 50.6875 5.359375 \nQ 44.046875 -1.421875 33.015625 -1.421875 \nQ 20.359375 -1.421875 13.671875 8.265625 \nQ 6.984375 17.96875 6.984375 36.375 \nQ 6.984375 53.65625 15.1875 63.9375 \nQ 23.390625 74.21875 37.203125 74.21875 \nQ 40.921875 74.21875 44.703125 73.484375 \nQ 48.484375 72.75 52.59375 71.296875 \nz\n\" id=\"DejaVuSans-54\"/>\n      </defs>\n      <g transform=\"translate(349.68545 239.238437)scale(0.1 -0.1)\">\n       <use xlink:href=\"#DejaVuSans-54\"/>\n       <use x=\"63.623047\" xlink:href=\"#DejaVuSans-48\"/>\n       <use x=\"127.246094\" xlink:href=\"#DejaVuSans-48\"/>\n       <use x=\"190.869141\" xlink:href=\"#DejaVuSans-48\"/>\n       <use x=\"254.492188\" xlink:href=\"#DejaVuSans-48\"/>\n       <use x=\"318.115234\" xlink:href=\"#DejaVuSans-48\"/>\n      </g>\n     </g>\n    </g>\n   </g>\n   <g id=\"matplotlib.axis_2\">\n    <g id=\"ytick_1\">\n     <g id=\"line2d_8\">\n      <defs>\n       <path d=\"M 0 0 \nL -3.5 0 \n\" id=\"m63fd156aa1\" style=\"stroke:#000000;stroke-width:0.8;\"/>\n      </defs>\n      <g>\n       <use style=\"stroke:#000000;stroke-width:0.8;\" x=\"49.190625\" xlink:href=\"#m63fd156aa1\" y=\"201.400333\"/>\n      </g>\n     </g>\n     <g id=\"text_8\">\n      <!-- 0.0006 -->\n      <defs>\n       <path d=\"M 10.6875 12.40625 \nL 21 12.40625 \nL 21 0 \nL 10.6875 0 \nz\n\" id=\"DejaVuSans-46\"/>\n      </defs>\n      <g transform=\"translate(7.2 205.199552)scale(0.1 -0.1)\">\n       <use xlink:href=\"#DejaVuSans-48\"/>\n       <use x=\"63.623047\" xlink:href=\"#DejaVuSans-46\"/>\n       <use x=\"95.410156\" xlink:href=\"#DejaVuSans-48\"/>\n       <use x=\"159.033203\" xlink:href=\"#DejaVuSans-48\"/>\n       <use x=\"222.65625\" xlink:href=\"#DejaVuSans-48\"/>\n       <use x=\"286.279297\" xlink:href=\"#DejaVuSans-54\"/>\n      </g>\n     </g>\n    </g>\n    <g id=\"ytick_2\">\n     <g id=\"line2d_9\">\n      <g>\n       <use style=\"stroke:#000000;stroke-width:0.8;\" x=\"49.190625\" xlink:href=\"#m63fd156aa1\" y=\"159.995402\"/>\n      </g>\n     </g>\n     <g id=\"text_9\">\n      <!-- 0.0008 -->\n      <defs>\n       <path d=\"M 31.78125 34.625 \nQ 24.75 34.625 20.71875 30.859375 \nQ 16.703125 27.09375 16.703125 20.515625 \nQ 16.703125 13.921875 20.71875 10.15625 \nQ 24.75 6.390625 31.78125 6.390625 \nQ 38.8125 6.390625 42.859375 10.171875 \nQ 46.921875 13.96875 46.921875 20.515625 \nQ 46.921875 27.09375 42.890625 30.859375 \nQ 38.875 34.625 31.78125 34.625 \nz\nM 21.921875 38.8125 \nQ 15.578125 40.375 12.03125 44.71875 \nQ 8.5 49.078125 8.5 55.328125 \nQ 8.5 64.0625 14.71875 69.140625 \nQ 20.953125 74.21875 31.78125 74.21875 \nQ 42.671875 74.21875 48.875 69.140625 \nQ 55.078125 64.0625 55.078125 55.328125 \nQ 55.078125 49.078125 51.53125 44.71875 \nQ 48 40.375 41.703125 38.8125 \nQ 48.828125 37.15625 52.796875 32.3125 \nQ 56.78125 27.484375 56.78125 20.515625 \nQ 56.78125 9.90625 50.3125 4.234375 \nQ 43.84375 -1.421875 31.78125 -1.421875 \nQ 19.734375 -1.421875 13.25 4.234375 \nQ 6.78125 9.90625 6.78125 20.515625 \nQ 6.78125 27.484375 10.78125 32.3125 \nQ 14.796875 37.15625 21.921875 38.8125 \nz\nM 18.3125 54.390625 \nQ 18.3125 48.734375 21.84375 45.5625 \nQ 25.390625 42.390625 31.78125 42.390625 \nQ 38.140625 42.390625 41.71875 45.5625 \nQ 45.3125 48.734375 45.3125 54.390625 \nQ 45.3125 60.0625 41.71875 63.234375 \nQ 38.140625 66.40625 31.78125 66.40625 \nQ 25.390625 66.40625 21.84375 63.234375 \nQ 18.3125 60.0625 18.3125 54.390625 \nz\n\" id=\"DejaVuSans-56\"/>\n      </defs>\n      <g transform=\"translate(7.2 163.794621)scale(0.1 -0.1)\">\n       <use xlink:href=\"#DejaVuSans-48\"/>\n       <use x=\"63.623047\" xlink:href=\"#DejaVuSans-46\"/>\n       <use x=\"95.410156\" xlink:href=\"#DejaVuSans-48\"/>\n       <use x=\"159.033203\" xlink:href=\"#DejaVuSans-48\"/>\n       <use x=\"222.65625\" xlink:href=\"#DejaVuSans-48\"/>\n       <use x=\"286.279297\" xlink:href=\"#DejaVuSans-56\"/>\n      </g>\n     </g>\n    </g>\n    <g id=\"ytick_3\">\n     <g id=\"line2d_10\">\n      <g>\n       <use style=\"stroke:#000000;stroke-width:0.8;\" x=\"49.190625\" xlink:href=\"#m63fd156aa1\" y=\"118.590472\"/>\n      </g>\n     </g>\n     <g id=\"text_10\">\n      <!-- 0.0010 -->\n      <g transform=\"translate(7.2 122.38969)scale(0.1 -0.1)\">\n       <use xlink:href=\"#DejaVuSans-48\"/>\n       <use x=\"63.623047\" xlink:href=\"#DejaVuSans-46\"/>\n       <use x=\"95.410156\" xlink:href=\"#DejaVuSans-48\"/>\n       <use x=\"159.033203\" xlink:href=\"#DejaVuSans-48\"/>\n       <use x=\"222.65625\" xlink:href=\"#DejaVuSans-49\"/>\n       <use x=\"286.279297\" xlink:href=\"#DejaVuSans-48\"/>\n      </g>\n     </g>\n    </g>\n    <g id=\"ytick_4\">\n     <g id=\"line2d_11\">\n      <g>\n       <use style=\"stroke:#000000;stroke-width:0.8;\" x=\"49.190625\" xlink:href=\"#m63fd156aa1\" y=\"77.185541\"/>\n      </g>\n     </g>\n     <g id=\"text_11\">\n      <!-- 0.0012 -->\n      <g transform=\"translate(7.2 80.98476)scale(0.1 -0.1)\">\n       <use xlink:href=\"#DejaVuSans-48\"/>\n       <use x=\"63.623047\" xlink:href=\"#DejaVuSans-46\"/>\n       <use x=\"95.410156\" xlink:href=\"#DejaVuSans-48\"/>\n       <use x=\"159.033203\" xlink:href=\"#DejaVuSans-48\"/>\n       <use x=\"222.65625\" xlink:href=\"#DejaVuSans-49\"/>\n       <use x=\"286.279297\" xlink:href=\"#DejaVuSans-50\"/>\n      </g>\n     </g>\n    </g>\n    <g id=\"ytick_5\">\n     <g id=\"line2d_12\">\n      <g>\n       <use style=\"stroke:#000000;stroke-width:0.8;\" x=\"49.190625\" xlink:href=\"#m63fd156aa1\" y=\"35.78061\"/>\n      </g>\n     </g>\n     <g id=\"text_12\">\n      <!-- 0.0014 -->\n      <g transform=\"translate(7.2 39.579829)scale(0.1 -0.1)\">\n       <use xlink:href=\"#DejaVuSans-48\"/>\n       <use x=\"63.623047\" xlink:href=\"#DejaVuSans-46\"/>\n       <use x=\"95.410156\" xlink:href=\"#DejaVuSans-48\"/>\n       <use x=\"159.033203\" xlink:href=\"#DejaVuSans-48\"/>\n       <use x=\"222.65625\" xlink:href=\"#DejaVuSans-49\"/>\n       <use x=\"286.279297\" xlink:href=\"#DejaVuSans-52\"/>\n      </g>\n     </g>\n    </g>\n   </g>\n   <g id=\"line2d_13\">\n    <path clip-path=\"url(#pd88959a07b)\" d=\"M 64.408807 36.14683 \nL 64.775058 64.633268 \nL 65.215879 93.352358 \nL 65.610031 115.965173 \nL 65.959035 133.068427 \nL 65.959542 133.061456 \nL 65.986428 134.194272 \nL 65.987442 134.180745 \nL 66.398841 150.067844 \nL 66.982206 166.003303 \nL 66.982713 165.995843 \nL 67.029382 166.942321 \nL 67.201855 171.002471 \nL 67.48187 176.608958 \nL 67.482377 176.604584 \nL 67.520423 177.238268 \nL 67.760871 181.405836 \nL 67.761378 181.402141 \nL 67.761885 181.396476 \nL 67.806018 182.146135 \nL 68.029726 185.785629 \nL 68.03074 185.780594 \nL 68.042915 185.92845 \nL 68.245317 188.807882 \nL 68.245824 188.802481 \nL 68.300102 189.391633 \nL 68.301624 189.38393 \nL 68.502505 191.875985 \nL 68.503012 191.870812 \nL 68.548159 192.532267 \nL 68.550696 192.512551 \nL 68.764765 194.801852 \nL 68.766287 194.788649 \nL 68.806869 195.150254 \nL 68.807376 195.14849 \nL 69.017387 197.104923 \nL 69.017894 197.100169 \nL 69.074709 197.610492 \nL 69.31262 199.534943 \nL 69.313635 199.530579 \nL 69.352188 199.85742 \nL 69.527197 201.336895 \nL 69.528719 201.334929 \nL 69.529226 201.332015 \nL 69.58249 201.666251 \nL 69.799096 203.058345 \nL 69.799603 203.056383 \nL 69.80011 203.052328 \nL 69.8691 203.395706 \nL 70.771539 207.574165 \nL 69.870621 203.393286 \nL 70.772554 207.569682 \nL 70.773568 207.564671 \nL 70.834441 207.816966 \nL 70.835456 207.81592 \nL 71.082498 208.542269 \nL 71.086049 208.533002 \nL 71.086556 208.531256 \nL 71.129674 208.75046 \nL 71.139313 208.745139 \nL 71.272726 209.106911 \nL 71.27932 209.102257 \nL 71.349831 209.264965 \nL 71.350846 209.264331 \nL 71.488317 209.699938 \nL 71.489839 209.695408 \nL 71.490346 209.694021 \nL 71.559842 209.825858 \nL 71.687675 210.133014 \nL 71.691734 210.126797 \nL 71.699343 210.118683 \nL 71.755143 210.263833 \nL 71.757679 210.262674 \nL 71.894136 210.571249 \nL 71.89515 210.568691 \nL 71.898194 210.560481 \nL 71.979358 210.677687 \nL 71.986967 210.67474 \nL 71.987474 210.673649 \nL 72.051898 210.791726 \nL 72.060521 210.775435 \nL 72.19292 211.006352 \nL 72.193427 211.00371 \nL 72.211182 211.004589 \nL 72.274084 211.126452 \nL 72.404453 211.379994 \nL 72.405467 211.375628 \nL 72.405975 211.373811 \nL 72.484602 211.493582 \nL 72.487646 211.491789 \nL 72.61345 211.65677 \nL 72.744833 211.771219 \nL 72.865057 211.923517 \nL 72.873681 211.918952 \nL 72.963468 211.986936 \nL 72.874695 211.920659 \nL 72.964483 211.988593 \nL 73.083185 212.097753 \nL 73.085721 212.090399 \nL 73.086229 212.088895 \nL 73.160798 212.174864 \nL 73.17906 212.160848 \nL 73.320589 212.270069 \nL 73.328705 212.265848 \nL 75.073726 213.089032 \nL 75.291854 213.14271 \nL 75.407512 213.171688 \nL 75.30555 213.135058 \nL 75.410556 213.168128 \nL 75.557665 213.200155 \nL 75.418165 213.159835 \nL 75.565275 213.190072 \nL 75.674338 213.192531 \nL 75.567304 213.192318 \nL 75.685498 213.199798 \nL 75.87319 213.219883 \nL 75.874711 213.222829 \nL 75.995442 213.249304 \nL 75.996457 213.24884 \nL 76.14661 213.271596 \nL 76.271907 213.279109 \nL 76.72338 213.320226 \nL 76.839546 213.320179 \nL 76.734033 213.314247 \nL 76.840053 213.320004 \nL 77.277323 213.319981 \nL 77.414794 213.324057 \nL 77.663358 213.319907 \nL 77.821627 213.346779 \nL 78.02758 213.356986 \nL 80.868312 213.373719 \nL 80.977884 213.37866 \nL 80.982956 213.3812 \nL 81.29848 213.389166 \nL 81.420733 213.367564 \nL 81.423777 213.369793 \nL 81.709372 213.370017 \nL 82.05026 213.375435 \nL 82.050767 213.373994 \nL 82.168962 213.368248 \nL 82.169976 213.369074 \nL 82.383031 213.37477 \nL 82.648843 213.37257 \nL 84.144792 213.397108 \nL 84.471477 213.385912 \nL 84.587135 213.391627 \nL 84.587642 213.391902 \nL 84.839757 213.39406 \nL 84.958967 213.389669 \nL 84.959474 213.390656 \nL 85.266882 213.390279 \nL 85.491604 213.385876 \nL 87.402503 213.398871 \nL 87.696215 213.400594 \nL 87.8347 213.381698 \nL 87.954417 213.372689 \nL 88.074134 213.376025 \nL 88.26081 213.388268 \nL 88.382049 213.38513 \nL 88.50278 213.388387 \nL 88.503287 213.388734 \nL 90.589196 213.406331 \nL 90.725652 213.41435 \nL 90.72616 213.41382 \nL 91.523594 213.39489 \nL 91.711792 213.406449 \nL 91.83506 213.412636 \nL 92.050651 213.410019 \nL 92.176455 213.403555 \nL 92.176962 213.403045 \nL 92.345377 213.401115 \nL 92.503139 213.404315 \nL 92.503646 213.403807 \nL 92.678148 213.407394 \nL 92.678656 213.408231 \nL 92.813591 213.415735 \nL 92.988093 213.416046 \nL 93.131144 213.411981 \nL 93.30666 213.410938 \nL 93.449712 213.412166 \nL 96.471033 213.389774 \nL 96.5943 213.383759 \nL 96.721626 213.393368 \nL 97.231436 213.38015 \nL 97.347094 213.367557 \nL 97.571817 213.357009 \nL 97.684431 213.356905 \nL 97.576382 213.360934 \nL 97.693562 213.362004 \nL 116.674725 213.359193 \nL 116.784803 213.37754 \nL 116.959813 213.377971 \nL 117.073442 213.385695 \nL 117.074456 213.387029 \nL 117.313382 213.375992 \nL 117.31389 213.377086 \nL 117.436142 213.376845 \nL 117.982476 213.399576 \nL 118.135673 213.399631 \nL 118.420253 213.368198 \nL 120.265714 213.402948 \nL 120.602037 213.40719 \nL 120.806975 213.401525 \nL 121.125036 213.411982 \nL 121.290914 213.409516 \nL 122.104074 213.403555 \nL 122.292272 213.407713 \nL 122.504313 213.412307 \nL 122.629609 213.402758 \nL 122.7894 213.401395 \nL 123.082605 213.408882 \nL 123.263701 213.41368 \nL 123.46864 213.418506 \nL 123.617778 213.414694 \nL 123.755249 213.413023 \nL 123.756264 213.411629 \nL 123.990117 213.402231 \nL 124.142299 213.384322 \nL 124.143314 213.385144 \nL 124.283828 213.38447 \nL 124.428401 213.381058 \nL 124.428909 213.382023 \nL 124.768275 213.388469 \nL 124.893064 213.389456 \nL 125.024955 213.398207 \nL 125.153295 213.393992 \nL 125.15431 213.395318 \nL 125.317145 213.400338 \nL 125.463747 213.390019 \nL 125.855362 213.376665 \nL 125.982688 213.373397 \nL 125.983195 213.374329 \nL 126.259659 213.387879 \nL 126.622867 213.392131 \nL 128.132513 213.363764 \nL 128.249186 213.361382 \nL 128.249693 213.360387 \nL 128.381584 213.358138 \nL 128.518041 213.363785 \nL 128.52007 213.36202 \nL 128.524128 213.364943 \nL 128.641816 213.363631 \nL 128.837623 213.373655 \nL 128.97408 213.381162 \nL 129.098362 213.387748 \nL 129.099376 213.386122 \nL 129.276922 213.369777 \nL 129.277429 213.36845 \nL 129.283517 213.371174 \nL 129.395117 213.370619 \nL 129.53969 213.353311 \nL 129.540704 213.351761 \nL 129.694916 213.3461 \nL 130.022107 213.352768 \nL 130.179869 213.350629 \nL 130.326471 213.349631 \nL 130.329515 213.353433 \nL 130.444666 213.345423 \nL 130.590253 213.350718 \nL 130.713521 213.361786 \nL 130.879907 213.37188 \nL 131.350149 213.376993 \nL 131.470373 213.37465 \nL 158.256447 213.35937 \nL 158.379714 213.358581 \nL 158.623713 213.365287 \nL 158.940252 213.361589 \nL 158.940759 213.362951 \nL 159.077723 213.364256 \nL 159.07823 213.363631 \nL 159.274038 213.373655 \nL 159.410494 213.381162 \nL 159.534776 213.387748 \nL 159.535791 213.386122 \nL 159.713337 213.369777 \nL 159.713844 213.36845 \nL 159.719931 213.371174 \nL 159.831531 213.370619 \nL 159.976104 213.353311 \nL 159.977119 213.351761 \nL 160.13133 213.3461 \nL 160.458521 213.352768 \nL 160.616284 213.350629 \nL 160.762886 213.349631 \nL 160.765929 213.353433 \nL 160.88108 213.345423 \nL 161.026668 213.350718 \nL 161.149935 213.361786 \nL 161.316321 213.37188 \nL 161.786564 213.376993 \nL 161.906787 213.37465 \nL 188.692861 213.35937 \nL 188.816129 213.358581 \nL 189.060127 213.365287 \nL 189.376666 213.361589 \nL 189.377173 213.362951 \nL 189.514137 213.364256 \nL 189.514644 213.363631 \nL 189.710452 213.373655 \nL 189.846909 213.381162 \nL 189.971191 213.387748 \nL 189.972205 213.386122 \nL 190.149751 213.369777 \nL 190.150258 213.36845 \nL 190.156345 213.371174 \nL 190.267946 213.370619 \nL 190.412519 213.353311 \nL 190.413533 213.351761 \nL 190.567744 213.3461 \nL 190.894936 213.352768 \nL 191.052698 213.350629 \nL 191.1993 213.349631 \nL 191.202344 213.353433 \nL 191.317495 213.345423 \nL 191.463082 213.350718 \nL 191.58635 213.361786 \nL 191.752735 213.37188 \nL 192.222978 213.376993 \nL 192.343202 213.37465 \nL 219.129276 213.35937 \nL 219.252543 213.358581 \nL 219.496542 213.365287 \nL 219.81308 213.361589 \nL 219.813588 213.362951 \nL 219.950552 213.364256 \nL 219.951059 213.363631 \nL 220.146866 213.373655 \nL 220.283323 213.381162 \nL 220.407605 213.387748 \nL 220.40862 213.386122 \nL 220.586165 213.369777 \nL 220.586673 213.36845 \nL 220.59276 213.371174 \nL 220.70436 213.370619 \nL 220.848933 213.353311 \nL 220.849948 213.351761 \nL 221.004159 213.3461 \nL 221.33135 213.352768 \nL 221.489112 213.350629 \nL 221.635714 213.349631 \nL 221.638758 213.353433 \nL 221.753909 213.345423 \nL 221.899497 213.350718 \nL 222.022764 213.361786 \nL 222.18915 213.37188 \nL 222.659392 213.376993 \nL 222.779616 213.37465 \nL 249.56569 213.35937 \nL 249.688957 213.358581 \nL 249.932956 213.365287 \nL 250.249495 213.361589 \nL 250.250002 213.362951 \nL 250.386966 213.364256 \nL 250.387473 213.363631 \nL 250.583281 213.373655 \nL 250.719737 213.381162 \nL 250.844019 213.387748 \nL 250.845034 213.386122 \nL 251.02258 213.369777 \nL 251.023087 213.36845 \nL 251.029174 213.371174 \nL 251.140774 213.370619 \nL 251.285347 213.353311 \nL 251.286362 213.351761 \nL 251.440573 213.3461 \nL 251.767765 213.352768 \nL 251.925527 213.350629 \nL 252.072129 213.349631 \nL 252.075172 213.353433 \nL 252.190323 213.345423 \nL 252.335911 213.350718 \nL 252.459178 213.361786 \nL 252.625564 213.37188 \nL 253.095807 213.376993 \nL 253.216031 213.37465 \nL 280.002104 213.35937 \nL 280.125372 213.358581 \nL 280.36937 213.365287 \nL 280.685909 213.361589 \nL 280.686416 213.362951 \nL 280.82338 213.364256 \nL 280.823888 213.363631 \nL 281.019695 213.373655 \nL 281.156152 213.381162 \nL 281.280434 213.387748 \nL 281.281448 213.386122 \nL 281.458994 213.369777 \nL 281.459501 213.36845 \nL 281.465589 213.371174 \nL 281.577189 213.370619 \nL 281.721762 213.353311 \nL 281.722776 213.351761 \nL 281.876987 213.3461 \nL 282.204179 213.352768 \nL 282.361941 213.350629 \nL 282.508543 213.349631 \nL 282.511587 213.353433 \nL 282.626738 213.345423 \nL 282.772325 213.350718 \nL 282.895593 213.361786 \nL 283.061979 213.37188 \nL 283.532221 213.376993 \nL 283.652445 213.37465 \nL 310.438519 213.35937 \nL 310.561786 213.358581 \nL 310.805785 213.365287 \nL 311.122323 213.361589 \nL 311.122831 213.362951 \nL 311.259795 213.364256 \nL 311.260302 213.363631 \nL 311.456109 213.373655 \nL 311.592566 213.381162 \nL 311.716848 213.387748 \nL 311.717863 213.386122 \nL 311.895408 213.369777 \nL 311.895916 213.36845 \nL 311.902003 213.371174 \nL 312.013603 213.370619 \nL 312.158176 213.353311 \nL 312.159191 213.351761 \nL 312.313402 213.3461 \nL 312.640593 213.352768 \nL 312.798355 213.350629 \nL 312.944957 213.349631 \nL 312.948001 213.353433 \nL 313.063152 213.345423 \nL 313.20874 213.350718 \nL 313.332007 213.361786 \nL 313.498393 213.37188 \nL 313.968635 213.376993 \nL 314.088859 213.37465 \nL 340.874933 213.35937 \nL 340.998201 213.358581 \nL 341.242199 213.365287 \nL 341.558738 213.361589 \nL 341.559245 213.362951 \nL 341.696209 213.364256 \nL 341.696716 213.363631 \nL 341.892524 213.373655 \nL 342.02898 213.381162 \nL 342.153262 213.387748 \nL 342.154277 213.386122 \nL 342.331823 213.369777 \nL 342.33233 213.36845 \nL 342.338417 213.371174 \nL 342.450017 213.370619 \nL 342.59459 213.353311 \nL 342.595605 213.351761 \nL 342.749816 213.3461 \nL 343.077008 213.352768 \nL 343.23477 213.350629 \nL 343.381372 213.349631 \nL 343.384415 213.353433 \nL 343.499567 213.345423 \nL 343.645154 213.350718 \nL 343.768422 213.361786 \nL 343.934807 213.37188 \nL 344.40505 213.376993 \nL 344.525274 213.37465 \nL 368.772443 213.399259 \nL 368.772443 213.399259 \n\" style=\"fill:none;stroke:#1f77b4;stroke-linecap:square;stroke-width:1.5;\"/>\n   </g>\n   <g id=\"patch_3\">\n    <path d=\"M 49.190625 224.64 \nL 49.190625 7.2 \n\" style=\"fill:none;stroke:#000000;stroke-linecap:square;stroke-linejoin:miter;stroke-width:0.8;\"/>\n   </g>\n   <g id=\"patch_4\">\n    <path d=\"M 383.990625 224.64 \nL 383.990625 7.2 \n\" style=\"fill:none;stroke:#000000;stroke-linecap:square;stroke-linejoin:miter;stroke-width:0.8;\"/>\n   </g>\n   <g id=\"patch_5\">\n    <path d=\"M 49.190625 224.64 \nL 383.990625 224.64 \n\" style=\"fill:none;stroke:#000000;stroke-linecap:square;stroke-linejoin:miter;stroke-width:0.8;\"/>\n   </g>\n   <g id=\"patch_6\">\n    <path d=\"M 49.190625 7.2 \nL 383.990625 7.2 \n\" style=\"fill:none;stroke:#000000;stroke-linecap:square;stroke-linejoin:miter;stroke-width:0.8;\"/>\n   </g>\n  </g>\n </g>\n <defs>\n  <clipPath id=\"pd88959a07b\">\n   <rect height=\"217.44\" width=\"334.8\" x=\"49.190625\" y=\"7.2\"/>\n  </clipPath>\n </defs>\n</svg>\n",
      "image/png": "[encoded data removed]"
     },
     "metadata": {
      "needs_background": "light"
     }
    }
   ],
   "source": [
    "history = nn.loss_history\n",
    "print(len(history))\n",
    "plt.ylim((min(history) * 0.9), (max(history)* 1.1))\n",
    "plt.plot(list(range(epochs_to_do * 60000)), history)"
   ]
  },
  {
   "cell_type": "code",
   "execution_count": null,
   "metadata": {},
   "outputs": [],
   "source": []
  }
 ]
}